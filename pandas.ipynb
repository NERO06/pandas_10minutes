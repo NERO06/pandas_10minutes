{
 "cells": [
  {
   "cell_type": "markdown",
   "metadata": {},
   "source": [
    "# 10 minutes to pandas\n",
    "* 公式サイト参照: http://pandas.pydata.org/pandas-docs/stable/10min.html\n",
    "* バージョン: 0.23.3"
   ]
  },
  {
   "cell_type": "markdown",
   "metadata": {},
   "source": [
    "### 1. インストール\n",
    "* ※Beutifulsoup4をインストールしている場合は、`lxml`か`html5lib`をインストールする必要がある。`read_html()`が機能しなくなる。"
   ]
  },
  {
   "cell_type": "raw",
   "metadata": {},
   "source": [
    "nt  #インストール"
   ]
  },
  {
   "cell_type": "markdown",
   "metadata": {},
   "source": [
    "### 2. インポート"
   ]
  },
  {
   "cell_type": "code",
   "execution_count": 1,
   "metadata": {},
   "outputs": [],
   "source": [
    "import pandas as pd\n",
    "import numpy as np\n",
    "import matplotlib.pyplot as plt"
   ]
  },
  {
   "cell_type": "markdown",
   "metadata": {},
   "source": [
    "### 3. オブジェクトの作成\n",
    "* `Series`オブジェクト…一次元の配列\n",
    "* `DataFrame`オブジェクト…二次元、サイズ可変、異質な表形式のデータ構造。ラベルとなるrowとcolumnを持つ(行と列)。辞書に似た構造"
   ]
  },
  {
   "cell_type": "code",
   "execution_count": 2,
   "metadata": {},
   "outputs": [
    {
     "name": "stdout",
     "output_type": "stream",
     "text": [
      "<class 'pandas.core.series.Series'>\n"
     ]
    },
    {
     "data": {
      "text/plain": [
       "0    1.0\n",
       "1    3.0\n",
       "2    5.0\n",
       "3    NaN\n",
       "4    6.0\n",
       "5    8.0\n",
       "dtype: float64"
      ]
     },
     "execution_count": 2,
     "metadata": {},
     "output_type": "execute_result"
    }
   ],
   "source": [
    "#Seriesオブジェクト\n",
    "s = pd.Series([1,3,5,np.nan,6,8])  #np.nanはリストの欠損値を指す\n",
    "print(type(s))\n",
    "s"
   ]
  },
  {
   "cell_type": "code",
   "execution_count": 3,
   "metadata": {},
   "outputs": [
    {
     "name": "stdout",
     "output_type": "stream",
     "text": [
      "<class 'pandas.core.frame.DataFrame'>\n"
     ]
    },
    {
     "data": {
      "text/html": [
       "<div>\n",
       "<style scoped>\n",
       "    .dataframe tbody tr th:only-of-type {\n",
       "        vertical-align: middle;\n",
       "    }\n",
       "\n",
       "    .dataframe tbody tr th {\n",
       "        vertical-align: top;\n",
       "    }\n",
       "\n",
       "    .dataframe thead th {\n",
       "        text-align: right;\n",
       "    }\n",
       "</style>\n",
       "<table border=\"1\" class=\"dataframe\">\n",
       "  <thead>\n",
       "    <tr style=\"text-align: right;\">\n",
       "      <th></th>\n",
       "      <th>A</th>\n",
       "      <th>B</th>\n",
       "      <th>C</th>\n",
       "      <th>D</th>\n",
       "    </tr>\n",
       "  </thead>\n",
       "  <tbody>\n",
       "    <tr>\n",
       "      <th>2013-01-01</th>\n",
       "      <td>0.640245</td>\n",
       "      <td>0.221888</td>\n",
       "      <td>0.161165</td>\n",
       "      <td>-0.158784</td>\n",
       "    </tr>\n",
       "    <tr>\n",
       "      <th>2013-01-02</th>\n",
       "      <td>-0.842354</td>\n",
       "      <td>-1.756285</td>\n",
       "      <td>-0.629484</td>\n",
       "      <td>-1.589416</td>\n",
       "    </tr>\n",
       "    <tr>\n",
       "      <th>2013-01-03</th>\n",
       "      <td>-0.298022</td>\n",
       "      <td>-0.768641</td>\n",
       "      <td>-0.613439</td>\n",
       "      <td>-0.665621</td>\n",
       "    </tr>\n",
       "    <tr>\n",
       "      <th>2013-01-04</th>\n",
       "      <td>-1.984155</td>\n",
       "      <td>0.740455</td>\n",
       "      <td>-0.928366</td>\n",
       "      <td>-0.510639</td>\n",
       "    </tr>\n",
       "    <tr>\n",
       "      <th>2013-01-05</th>\n",
       "      <td>-1.918457</td>\n",
       "      <td>-0.258365</td>\n",
       "      <td>-1.469069</td>\n",
       "      <td>2.910253</td>\n",
       "    </tr>\n",
       "    <tr>\n",
       "      <th>2013-01-06</th>\n",
       "      <td>0.163206</td>\n",
       "      <td>-0.202259</td>\n",
       "      <td>0.119820</td>\n",
       "      <td>0.606145</td>\n",
       "    </tr>\n",
       "  </tbody>\n",
       "</table>\n",
       "</div>"
      ],
      "text/plain": [
       "                   A         B         C         D\n",
       "2013-01-01  0.640245  0.221888  0.161165 -0.158784\n",
       "2013-01-02 -0.842354 -1.756285 -0.629484 -1.589416\n",
       "2013-01-03 -0.298022 -0.768641 -0.613439 -0.665621\n",
       "2013-01-04 -1.984155  0.740455 -0.928366 -0.510639\n",
       "2013-01-05 -1.918457 -0.258365 -1.469069  2.910253\n",
       "2013-01-06  0.163206 -0.202259  0.119820  0.606145"
      ]
     },
     "execution_count": 3,
     "metadata": {},
     "output_type": "execute_result"
    }
   ],
   "source": [
    "#DataFrameオブジェクト\n",
    "#datetimeのrowとラベルづけされたcolumnを持つデータ構造\n",
    "dates = pd.date_range('20130101', periods=6)  #date_range()…固定されたインデックスを返す\n",
    "#datesの格納内容 -> DatetimeIndex(['2013-01-01', '2013-01-02', '2013-01-03', '2013-01-04', '2013-01-05', '2013-01-06'], dtype='datetime64[ns]', freq='D')\n",
    "df =pd.DataFrame(np.random.randn(6,4), index=dates, columns=list('ABCD'))  #np.random.randn()…標準正規分布に沿ってランダムな値を生成\n",
    "print(type(df))\n",
    "df"
   ]
  },
  {
   "cell_type": "code",
   "execution_count": 4,
   "metadata": {},
   "outputs": [
    {
     "data": {
      "text/html": [
       "<div>\n",
       "<style scoped>\n",
       "    .dataframe tbody tr th:only-of-type {\n",
       "        vertical-align: middle;\n",
       "    }\n",
       "\n",
       "    .dataframe tbody tr th {\n",
       "        vertical-align: top;\n",
       "    }\n",
       "\n",
       "    .dataframe thead th {\n",
       "        text-align: right;\n",
       "    }\n",
       "</style>\n",
       "<table border=\"1\" class=\"dataframe\">\n",
       "  <thead>\n",
       "    <tr style=\"text-align: right;\">\n",
       "      <th></th>\n",
       "      <th>A</th>\n",
       "      <th>B</th>\n",
       "      <th>C</th>\n",
       "      <th>D</th>\n",
       "      <th>E</th>\n",
       "      <th>F</th>\n",
       "    </tr>\n",
       "  </thead>\n",
       "  <tbody>\n",
       "    <tr>\n",
       "      <th>0</th>\n",
       "      <td>1.0</td>\n",
       "      <td>2013-01-02</td>\n",
       "      <td>1.0</td>\n",
       "      <td>3</td>\n",
       "      <td>test</td>\n",
       "      <td>foo</td>\n",
       "    </tr>\n",
       "    <tr>\n",
       "      <th>1</th>\n",
       "      <td>1.0</td>\n",
       "      <td>2013-01-02</td>\n",
       "      <td>1.0</td>\n",
       "      <td>3</td>\n",
       "      <td>train</td>\n",
       "      <td>foo</td>\n",
       "    </tr>\n",
       "    <tr>\n",
       "      <th>2</th>\n",
       "      <td>1.0</td>\n",
       "      <td>2013-01-02</td>\n",
       "      <td>1.0</td>\n",
       "      <td>3</td>\n",
       "      <td>test</td>\n",
       "      <td>foo</td>\n",
       "    </tr>\n",
       "    <tr>\n",
       "      <th>3</th>\n",
       "      <td>1.0</td>\n",
       "      <td>2013-01-02</td>\n",
       "      <td>1.0</td>\n",
       "      <td>3</td>\n",
       "      <td>train</td>\n",
       "      <td>foo</td>\n",
       "    </tr>\n",
       "  </tbody>\n",
       "</table>\n",
       "</div>"
      ],
      "text/plain": [
       "     A          B    C  D      E    F\n",
       "0  1.0 2013-01-02  1.0  3   test  foo\n",
       "1  1.0 2013-01-02  1.0  3  train  foo\n",
       "2  1.0 2013-01-02  1.0  3   test  foo\n",
       "3  1.0 2013-01-02  1.0  3  train  foo"
      ]
     },
     "execution_count": 4,
     "metadata": {},
     "output_type": "execute_result"
    }
   ],
   "source": [
    "#DataFrameオブジェクト(Series型にも変換できるdict型を使った場合)\n",
    "df2 = pd.DataFrame({'A' : 1.,\n",
    "                    'B' : pd.Timestamp('20130102'),  #pandas.Timestamp()…pandas用のタイムスタンンプ生成\n",
    "                    'C' : pd.Series(1,index=list(range(4)),dtype='float32'),\n",
    "                    'D' : np.array([3] * 4,dtype='int32'),  #numpy.array()…一次元配列の作成\n",
    "                    'E' : pd.Categorical([\"test\",\"train\",\"test\",\"train\"]),  #pandas.Categorical()…変数を表すメソッド\n",
    "                    'F' : 'foo' })\n",
    "df2"
   ]
  },
  {
   "cell_type": "markdown",
   "metadata": {},
   "source": [
    "### 4. データを見る"
   ]
  },
  {
   "cell_type": "code",
   "execution_count": 5,
   "metadata": {},
   "outputs": [
    {
     "data": {
      "text/html": [
       "<div>\n",
       "<style scoped>\n",
       "    .dataframe tbody tr th:only-of-type {\n",
       "        vertical-align: middle;\n",
       "    }\n",
       "\n",
       "    .dataframe tbody tr th {\n",
       "        vertical-align: top;\n",
       "    }\n",
       "\n",
       "    .dataframe thead th {\n",
       "        text-align: right;\n",
       "    }\n",
       "</style>\n",
       "<table border=\"1\" class=\"dataframe\">\n",
       "  <thead>\n",
       "    <tr style=\"text-align: right;\">\n",
       "      <th></th>\n",
       "      <th>A</th>\n",
       "      <th>B</th>\n",
       "      <th>C</th>\n",
       "      <th>D</th>\n",
       "    </tr>\n",
       "  </thead>\n",
       "  <tbody>\n",
       "    <tr>\n",
       "      <th>2013-01-01</th>\n",
       "      <td>0.640245</td>\n",
       "      <td>0.221888</td>\n",
       "      <td>0.161165</td>\n",
       "      <td>-0.158784</td>\n",
       "    </tr>\n",
       "    <tr>\n",
       "      <th>2013-01-02</th>\n",
       "      <td>-0.842354</td>\n",
       "      <td>-1.756285</td>\n",
       "      <td>-0.629484</td>\n",
       "      <td>-1.589416</td>\n",
       "    </tr>\n",
       "  </tbody>\n",
       "</table>\n",
       "</div>"
      ],
      "text/plain": [
       "                   A         B         C         D\n",
       "2013-01-01  0.640245  0.221888  0.161165 -0.158784\n",
       "2013-01-02 -0.842354 -1.756285 -0.629484 -1.589416"
      ]
     },
     "execution_count": 5,
     "metadata": {},
     "output_type": "execute_result"
    }
   ],
   "source": [
    "df.head(2)  #DataFrame.head(n)…最初からn列目までのデータを表示"
   ]
  },
  {
   "cell_type": "code",
   "execution_count": 6,
   "metadata": {},
   "outputs": [
    {
     "data": {
      "text/html": [
       "<div>\n",
       "<style scoped>\n",
       "    .dataframe tbody tr th:only-of-type {\n",
       "        vertical-align: middle;\n",
       "    }\n",
       "\n",
       "    .dataframe tbody tr th {\n",
       "        vertical-align: top;\n",
       "    }\n",
       "\n",
       "    .dataframe thead th {\n",
       "        text-align: right;\n",
       "    }\n",
       "</style>\n",
       "<table border=\"1\" class=\"dataframe\">\n",
       "  <thead>\n",
       "    <tr style=\"text-align: right;\">\n",
       "      <th></th>\n",
       "      <th>A</th>\n",
       "      <th>B</th>\n",
       "      <th>C</th>\n",
       "      <th>D</th>\n",
       "    </tr>\n",
       "  </thead>\n",
       "  <tbody>\n",
       "    <tr>\n",
       "      <th>2013-01-04</th>\n",
       "      <td>-1.984155</td>\n",
       "      <td>0.740455</td>\n",
       "      <td>-0.928366</td>\n",
       "      <td>-0.510639</td>\n",
       "    </tr>\n",
       "    <tr>\n",
       "      <th>2013-01-05</th>\n",
       "      <td>-1.918457</td>\n",
       "      <td>-0.258365</td>\n",
       "      <td>-1.469069</td>\n",
       "      <td>2.910253</td>\n",
       "    </tr>\n",
       "    <tr>\n",
       "      <th>2013-01-06</th>\n",
       "      <td>0.163206</td>\n",
       "      <td>-0.202259</td>\n",
       "      <td>0.119820</td>\n",
       "      <td>0.606145</td>\n",
       "    </tr>\n",
       "  </tbody>\n",
       "</table>\n",
       "</div>"
      ],
      "text/plain": [
       "                   A         B         C         D\n",
       "2013-01-04 -1.984155  0.740455 -0.928366 -0.510639\n",
       "2013-01-05 -1.918457 -0.258365 -1.469069  2.910253\n",
       "2013-01-06  0.163206 -0.202259  0.119820  0.606145"
      ]
     },
     "execution_count": 6,
     "metadata": {},
     "output_type": "execute_result"
    }
   ],
   "source": [
    "df.tail(3)  #DataFrame.tail(n)…最後からn列目までのデータを表示"
   ]
  },
  {
   "cell_type": "code",
   "execution_count": 7,
   "metadata": {},
   "outputs": [
    {
     "data": {
      "text/plain": [
       "DatetimeIndex(['2013-01-01', '2013-01-02', '2013-01-03', '2013-01-04',\n",
       "               '2013-01-05', '2013-01-06'],\n",
       "              dtype='datetime64[ns]', freq='D')"
      ]
     },
     "execution_count": 7,
     "metadata": {},
     "output_type": "execute_result"
    }
   ],
   "source": [
    "df.index  #DataFrame.index…インデックス値を表示"
   ]
  },
  {
   "cell_type": "code",
   "execution_count": 8,
   "metadata": {},
   "outputs": [
    {
     "data": {
      "text/plain": [
       "Index(['A', 'B', 'C', 'D'], dtype='object')"
      ]
     },
     "execution_count": 8,
     "metadata": {},
     "output_type": "execute_result"
    }
   ],
   "source": [
    "df.columns  #DataFrame.columns…カラム値を表示"
   ]
  },
  {
   "cell_type": "code",
   "execution_count": 9,
   "metadata": {},
   "outputs": [
    {
     "data": {
      "text/plain": [
       "array([[ 0.64024466,  0.22188846,  0.1611652 , -0.15878385],\n",
       "       [-0.84235402, -1.75628475, -0.62948437, -1.58941564],\n",
       "       [-0.29802182, -0.76864116, -0.61343897, -0.66562134],\n",
       "       [-1.98415456,  0.74045532, -0.92836589, -0.51063921],\n",
       "       [-1.91845718, -0.25836465, -1.46906898,  2.91025334],\n",
       "       [ 0.1632055 , -0.20225916,  0.11981968,  0.60614479]])"
      ]
     },
     "execution_count": 9,
     "metadata": {},
     "output_type": "execute_result"
    }
   ],
   "source": [
    "df.values  #DataFrame.values…バリューをリスト(カラム単位)で返す"
   ]
  },
  {
   "cell_type": "code",
   "execution_count": 10,
   "metadata": {},
   "outputs": [
    {
     "data": {
      "text/html": [
       "<div>\n",
       "<style scoped>\n",
       "    .dataframe tbody tr th:only-of-type {\n",
       "        vertical-align: middle;\n",
       "    }\n",
       "\n",
       "    .dataframe tbody tr th {\n",
       "        vertical-align: top;\n",
       "    }\n",
       "\n",
       "    .dataframe thead th {\n",
       "        text-align: right;\n",
       "    }\n",
       "</style>\n",
       "<table border=\"1\" class=\"dataframe\">\n",
       "  <thead>\n",
       "    <tr style=\"text-align: right;\">\n",
       "      <th></th>\n",
       "      <th>A</th>\n",
       "      <th>B</th>\n",
       "      <th>C</th>\n",
       "      <th>D</th>\n",
       "    </tr>\n",
       "  </thead>\n",
       "  <tbody>\n",
       "    <tr>\n",
       "      <th>count</th>\n",
       "      <td>6.000000</td>\n",
       "      <td>6.000000</td>\n",
       "      <td>6.000000</td>\n",
       "      <td>6.000000</td>\n",
       "    </tr>\n",
       "    <tr>\n",
       "      <th>mean</th>\n",
       "      <td>-0.706590</td>\n",
       "      <td>-0.337201</td>\n",
       "      <td>-0.559896</td>\n",
       "      <td>0.098656</td>\n",
       "    </tr>\n",
       "    <tr>\n",
       "      <th>std</th>\n",
       "      <td>1.082281</td>\n",
       "      <td>0.860033</td>\n",
       "      <td>0.624823</td>\n",
       "      <td>1.551377</td>\n",
       "    </tr>\n",
       "    <tr>\n",
       "      <th>min</th>\n",
       "      <td>-1.984155</td>\n",
       "      <td>-1.756285</td>\n",
       "      <td>-1.469069</td>\n",
       "      <td>-1.589416</td>\n",
       "    </tr>\n",
       "    <tr>\n",
       "      <th>25%</th>\n",
       "      <td>-1.649431</td>\n",
       "      <td>-0.641072</td>\n",
       "      <td>-0.853646</td>\n",
       "      <td>-0.626876</td>\n",
       "    </tr>\n",
       "    <tr>\n",
       "      <th>50%</th>\n",
       "      <td>-0.570188</td>\n",
       "      <td>-0.230312</td>\n",
       "      <td>-0.621462</td>\n",
       "      <td>-0.334712</td>\n",
       "    </tr>\n",
       "    <tr>\n",
       "      <th>75%</th>\n",
       "      <td>0.047899</td>\n",
       "      <td>0.115852</td>\n",
       "      <td>-0.063495</td>\n",
       "      <td>0.414913</td>\n",
       "    </tr>\n",
       "    <tr>\n",
       "      <th>max</th>\n",
       "      <td>0.640245</td>\n",
       "      <td>0.740455</td>\n",
       "      <td>0.161165</td>\n",
       "      <td>2.910253</td>\n",
       "    </tr>\n",
       "  </tbody>\n",
       "</table>\n",
       "</div>"
      ],
      "text/plain": [
       "              A         B         C         D\n",
       "count  6.000000  6.000000  6.000000  6.000000\n",
       "mean  -0.706590 -0.337201 -0.559896  0.098656\n",
       "std    1.082281  0.860033  0.624823  1.551377\n",
       "min   -1.984155 -1.756285 -1.469069 -1.589416\n",
       "25%   -1.649431 -0.641072 -0.853646 -0.626876\n",
       "50%   -0.570188 -0.230312 -0.621462 -0.334712\n",
       "75%    0.047899  0.115852 -0.063495  0.414913\n",
       "max    0.640245  0.740455  0.161165  2.910253"
      ]
     },
     "execution_count": 10,
     "metadata": {},
     "output_type": "execute_result"
    }
   ],
   "source": [
    "df.describe()  #データの統計サマリーを返す"
   ]
  },
  {
   "cell_type": "code",
   "execution_count": 11,
   "metadata": {},
   "outputs": [
    {
     "data": {
      "text/html": [
       "<div>\n",
       "<style scoped>\n",
       "    .dataframe tbody tr th:only-of-type {\n",
       "        vertical-align: middle;\n",
       "    }\n",
       "\n",
       "    .dataframe tbody tr th {\n",
       "        vertical-align: top;\n",
       "    }\n",
       "\n",
       "    .dataframe thead th {\n",
       "        text-align: right;\n",
       "    }\n",
       "</style>\n",
       "<table border=\"1\" class=\"dataframe\">\n",
       "  <thead>\n",
       "    <tr style=\"text-align: right;\">\n",
       "      <th></th>\n",
       "      <th>2013-01-01 00:00:00</th>\n",
       "      <th>2013-01-02 00:00:00</th>\n",
       "      <th>2013-01-03 00:00:00</th>\n",
       "      <th>2013-01-04 00:00:00</th>\n",
       "      <th>2013-01-05 00:00:00</th>\n",
       "      <th>2013-01-06 00:00:00</th>\n",
       "    </tr>\n",
       "  </thead>\n",
       "  <tbody>\n",
       "    <tr>\n",
       "      <th>A</th>\n",
       "      <td>0.640245</td>\n",
       "      <td>-0.842354</td>\n",
       "      <td>-0.298022</td>\n",
       "      <td>-1.984155</td>\n",
       "      <td>-1.918457</td>\n",
       "      <td>0.163206</td>\n",
       "    </tr>\n",
       "    <tr>\n",
       "      <th>B</th>\n",
       "      <td>0.221888</td>\n",
       "      <td>-1.756285</td>\n",
       "      <td>-0.768641</td>\n",
       "      <td>0.740455</td>\n",
       "      <td>-0.258365</td>\n",
       "      <td>-0.202259</td>\n",
       "    </tr>\n",
       "    <tr>\n",
       "      <th>C</th>\n",
       "      <td>0.161165</td>\n",
       "      <td>-0.629484</td>\n",
       "      <td>-0.613439</td>\n",
       "      <td>-0.928366</td>\n",
       "      <td>-1.469069</td>\n",
       "      <td>0.119820</td>\n",
       "    </tr>\n",
       "    <tr>\n",
       "      <th>D</th>\n",
       "      <td>-0.158784</td>\n",
       "      <td>-1.589416</td>\n",
       "      <td>-0.665621</td>\n",
       "      <td>-0.510639</td>\n",
       "      <td>2.910253</td>\n",
       "      <td>0.606145</td>\n",
       "    </tr>\n",
       "  </tbody>\n",
       "</table>\n",
       "</div>"
      ],
      "text/plain": [
       "   2013-01-01  2013-01-02  2013-01-03  2013-01-04  2013-01-05  2013-01-06\n",
       "A    0.640245   -0.842354   -0.298022   -1.984155   -1.918457    0.163206\n",
       "B    0.221888   -1.756285   -0.768641    0.740455   -0.258365   -0.202259\n",
       "C    0.161165   -0.629484   -0.613439   -0.928366   -1.469069    0.119820\n",
       "D   -0.158784   -1.589416   -0.665621   -0.510639    2.910253    0.606145"
      ]
     },
     "execution_count": 11,
     "metadata": {},
     "output_type": "execute_result"
    }
   ],
   "source": [
    "df.T  #データとカラムを入れ替える"
   ]
  },
  {
   "cell_type": "code",
   "execution_count": 69,
   "metadata": {},
   "outputs": [
    {
     "data": {
      "text/html": [
       "<div>\n",
       "<style scoped>\n",
       "    .dataframe tbody tr th:only-of-type {\n",
       "        vertical-align: middle;\n",
       "    }\n",
       "\n",
       "    .dataframe tbody tr th {\n",
       "        vertical-align: top;\n",
       "    }\n",
       "\n",
       "    .dataframe thead th {\n",
       "        text-align: right;\n",
       "    }\n",
       "</style>\n",
       "<table border=\"1\" class=\"dataframe\">\n",
       "  <thead>\n",
       "    <tr style=\"text-align: right;\">\n",
       "      <th></th>\n",
       "      <th>D</th>\n",
       "      <th>C</th>\n",
       "      <th>B</th>\n",
       "      <th>A</th>\n",
       "    </tr>\n",
       "  </thead>\n",
       "  <tbody>\n",
       "    <tr>\n",
       "      <th>2013-01-01</th>\n",
       "      <td>-0.599511</td>\n",
       "      <td>0.957986</td>\n",
       "      <td>0.708388</td>\n",
       "      <td>0.097818</td>\n",
       "    </tr>\n",
       "    <tr>\n",
       "      <th>2013-01-02</th>\n",
       "      <td>-1.759448</td>\n",
       "      <td>-2.720556</td>\n",
       "      <td>-1.510286</td>\n",
       "      <td>-1.258251</td>\n",
       "    </tr>\n",
       "    <tr>\n",
       "      <th>2013-01-03</th>\n",
       "      <td>-1.878780</td>\n",
       "      <td>0.950486</td>\n",
       "      <td>-0.608405</td>\n",
       "      <td>-3.717158</td>\n",
       "    </tr>\n",
       "    <tr>\n",
       "      <th>2013-01-04</th>\n",
       "      <td>-1.180491</td>\n",
       "      <td>-0.319094</td>\n",
       "      <td>1.011312</td>\n",
       "      <td>1.751371</td>\n",
       "    </tr>\n",
       "    <tr>\n",
       "      <th>2013-01-05</th>\n",
       "      <td>1.412786</td>\n",
       "      <td>-1.340268</td>\n",
       "      <td>0.934914</td>\n",
       "      <td>-0.023563</td>\n",
       "    </tr>\n",
       "    <tr>\n",
       "      <th>2013-01-06</th>\n",
       "      <td>0.393309</td>\n",
       "      <td>-1.009658</td>\n",
       "      <td>-0.489432</td>\n",
       "      <td>0.424970</td>\n",
       "    </tr>\n",
       "  </tbody>\n",
       "</table>\n",
       "</div>"
      ],
      "text/plain": [
       "                   D         C         B         A\n",
       "2013-01-01 -0.599511  0.957986  0.708388  0.097818\n",
       "2013-01-02 -1.759448 -2.720556 -1.510286 -1.258251\n",
       "2013-01-03 -1.878780  0.950486 -0.608405 -3.717158\n",
       "2013-01-04 -1.180491 -0.319094  1.011312  1.751371\n",
       "2013-01-05  1.412786 -1.340268  0.934914 -0.023563\n",
       "2013-01-06  0.393309 -1.009658 -0.489432  0.424970"
      ]
     },
     "execution_count": 69,
     "metadata": {},
     "output_type": "execute_result"
    }
   ],
   "source": [
    "df.sort_index(axis=1, ascending=False)  #インデックス値でソート"
   ]
  },
  {
   "cell_type": "code",
   "execution_count": 13,
   "metadata": {},
   "outputs": [
    {
     "data": {
      "text/html": [
       "<div>\n",
       "<style scoped>\n",
       "    .dataframe tbody tr th:only-of-type {\n",
       "        vertical-align: middle;\n",
       "    }\n",
       "\n",
       "    .dataframe tbody tr th {\n",
       "        vertical-align: top;\n",
       "    }\n",
       "\n",
       "    .dataframe thead th {\n",
       "        text-align: right;\n",
       "    }\n",
       "</style>\n",
       "<table border=\"1\" class=\"dataframe\">\n",
       "  <thead>\n",
       "    <tr style=\"text-align: right;\">\n",
       "      <th></th>\n",
       "      <th>A</th>\n",
       "      <th>B</th>\n",
       "      <th>C</th>\n",
       "      <th>D</th>\n",
       "    </tr>\n",
       "  </thead>\n",
       "  <tbody>\n",
       "    <tr>\n",
       "      <th>2013-01-02</th>\n",
       "      <td>-0.842354</td>\n",
       "      <td>-1.756285</td>\n",
       "      <td>-0.629484</td>\n",
       "      <td>-1.589416</td>\n",
       "    </tr>\n",
       "    <tr>\n",
       "      <th>2013-01-03</th>\n",
       "      <td>-0.298022</td>\n",
       "      <td>-0.768641</td>\n",
       "      <td>-0.613439</td>\n",
       "      <td>-0.665621</td>\n",
       "    </tr>\n",
       "    <tr>\n",
       "      <th>2013-01-05</th>\n",
       "      <td>-1.918457</td>\n",
       "      <td>-0.258365</td>\n",
       "      <td>-1.469069</td>\n",
       "      <td>2.910253</td>\n",
       "    </tr>\n",
       "    <tr>\n",
       "      <th>2013-01-06</th>\n",
       "      <td>0.163206</td>\n",
       "      <td>-0.202259</td>\n",
       "      <td>0.119820</td>\n",
       "      <td>0.606145</td>\n",
       "    </tr>\n",
       "    <tr>\n",
       "      <th>2013-01-01</th>\n",
       "      <td>0.640245</td>\n",
       "      <td>0.221888</td>\n",
       "      <td>0.161165</td>\n",
       "      <td>-0.158784</td>\n",
       "    </tr>\n",
       "    <tr>\n",
       "      <th>2013-01-04</th>\n",
       "      <td>-1.984155</td>\n",
       "      <td>0.740455</td>\n",
       "      <td>-0.928366</td>\n",
       "      <td>-0.510639</td>\n",
       "    </tr>\n",
       "  </tbody>\n",
       "</table>\n",
       "</div>"
      ],
      "text/plain": [
       "                   A         B         C         D\n",
       "2013-01-02 -0.842354 -1.756285 -0.629484 -1.589416\n",
       "2013-01-03 -0.298022 -0.768641 -0.613439 -0.665621\n",
       "2013-01-05 -1.918457 -0.258365 -1.469069  2.910253\n",
       "2013-01-06  0.163206 -0.202259  0.119820  0.606145\n",
       "2013-01-01  0.640245  0.221888  0.161165 -0.158784\n",
       "2013-01-04 -1.984155  0.740455 -0.928366 -0.510639"
      ]
     },
     "execution_count": 13,
     "metadata": {},
     "output_type": "execute_result"
    }
   ],
   "source": [
    "df.sort_values(by=\"B\")  #バリュー値でソート"
   ]
  },
  {
   "cell_type": "markdown",
   "metadata": {},
   "source": [
    "### 5. セレクション"
   ]
  },
  {
   "cell_type": "markdown",
   "metadata": {},
   "source": [
    "#### 5-1. データの取得"
   ]
  },
  {
   "cell_type": "code",
   "execution_count": 14,
   "metadata": {},
   "outputs": [
    {
     "data": {
      "text/plain": [
       "2013-01-01    0.640245\n",
       "2013-01-02   -0.842354\n",
       "2013-01-03   -0.298022\n",
       "2013-01-04   -1.984155\n",
       "2013-01-05   -1.918457\n",
       "2013-01-06    0.163206\n",
       "Freq: D, Name: A, dtype: float64"
      ]
     },
     "execution_count": 14,
     "metadata": {},
     "output_type": "execute_result"
    }
   ],
   "source": [
    "df['A']  #Aの取得。df.Aでも取得可能"
   ]
  },
  {
   "cell_type": "code",
   "execution_count": 15,
   "metadata": {},
   "outputs": [
    {
     "data": {
      "text/html": [
       "<div>\n",
       "<style scoped>\n",
       "    .dataframe tbody tr th:only-of-type {\n",
       "        vertical-align: middle;\n",
       "    }\n",
       "\n",
       "    .dataframe tbody tr th {\n",
       "        vertical-align: top;\n",
       "    }\n",
       "\n",
       "    .dataframe thead th {\n",
       "        text-align: right;\n",
       "    }\n",
       "</style>\n",
       "<table border=\"1\" class=\"dataframe\">\n",
       "  <thead>\n",
       "    <tr style=\"text-align: right;\">\n",
       "      <th></th>\n",
       "      <th>A</th>\n",
       "      <th>B</th>\n",
       "      <th>C</th>\n",
       "      <th>D</th>\n",
       "    </tr>\n",
       "  </thead>\n",
       "  <tbody>\n",
       "    <tr>\n",
       "      <th>2013-01-02</th>\n",
       "      <td>-0.842354</td>\n",
       "      <td>-1.756285</td>\n",
       "      <td>-0.629484</td>\n",
       "      <td>-1.589416</td>\n",
       "    </tr>\n",
       "    <tr>\n",
       "      <th>2013-01-03</th>\n",
       "      <td>-0.298022</td>\n",
       "      <td>-0.768641</td>\n",
       "      <td>-0.613439</td>\n",
       "      <td>-0.665621</td>\n",
       "    </tr>\n",
       "    <tr>\n",
       "      <th>2013-01-04</th>\n",
       "      <td>-1.984155</td>\n",
       "      <td>0.740455</td>\n",
       "      <td>-0.928366</td>\n",
       "      <td>-0.510639</td>\n",
       "    </tr>\n",
       "  </tbody>\n",
       "</table>\n",
       "</div>"
      ],
      "text/plain": [
       "                   A         B         C         D\n",
       "2013-01-02 -0.842354 -1.756285 -0.629484 -1.589416\n",
       "2013-01-03 -0.298022 -0.768641 -0.613439 -0.665621\n",
       "2013-01-04 -1.984155  0.740455 -0.928366 -0.510639"
      ]
     },
     "execution_count": 15,
     "metadata": {},
     "output_type": "execute_result"
    }
   ],
   "source": [
    "df[1:4]  #スライスを用いた値の取得。df.head(),def.tail(n)と一部類似\n",
    "#df[\"20130102\":\"20130104\"]でも可"
   ]
  },
  {
   "cell_type": "markdown",
   "metadata": {},
   "source": [
    "#### 5-2. ラベルによるセレクション"
   ]
  },
  {
   "cell_type": "code",
   "execution_count": 16,
   "metadata": {},
   "outputs": [
    {
     "data": {
      "text/plain": [
       "A    0.640245\n",
       "B    0.221888\n",
       "C    0.161165\n",
       "D   -0.158784\n",
       "Name: 2013-01-01 00:00:00, dtype: float64"
      ]
     },
     "execution_count": 16,
     "metadata": {},
     "output_type": "execute_result"
    }
   ],
   "source": [
    "df.loc[dates[0]]  #該当するインデックスラベルのカラムーバリューを取得。df.loc[\"20130101\"]と同義"
   ]
  },
  {
   "cell_type": "code",
   "execution_count": 17,
   "metadata": {},
   "outputs": [
    {
     "data": {
      "text/html": [
       "<div>\n",
       "<style scoped>\n",
       "    .dataframe tbody tr th:only-of-type {\n",
       "        vertical-align: middle;\n",
       "    }\n",
       "\n",
       "    .dataframe tbody tr th {\n",
       "        vertical-align: top;\n",
       "    }\n",
       "\n",
       "    .dataframe thead th {\n",
       "        text-align: right;\n",
       "    }\n",
       "</style>\n",
       "<table border=\"1\" class=\"dataframe\">\n",
       "  <thead>\n",
       "    <tr style=\"text-align: right;\">\n",
       "      <th></th>\n",
       "      <th>A</th>\n",
       "      <th>B</th>\n",
       "    </tr>\n",
       "  </thead>\n",
       "  <tbody>\n",
       "    <tr>\n",
       "      <th>2013-01-01</th>\n",
       "      <td>0.640245</td>\n",
       "      <td>0.221888</td>\n",
       "    </tr>\n",
       "    <tr>\n",
       "      <th>2013-01-02</th>\n",
       "      <td>-0.842354</td>\n",
       "      <td>-1.756285</td>\n",
       "    </tr>\n",
       "    <tr>\n",
       "      <th>2013-01-03</th>\n",
       "      <td>-0.298022</td>\n",
       "      <td>-0.768641</td>\n",
       "    </tr>\n",
       "    <tr>\n",
       "      <th>2013-01-04</th>\n",
       "      <td>-1.984155</td>\n",
       "      <td>0.740455</td>\n",
       "    </tr>\n",
       "    <tr>\n",
       "      <th>2013-01-05</th>\n",
       "      <td>-1.918457</td>\n",
       "      <td>-0.258365</td>\n",
       "    </tr>\n",
       "    <tr>\n",
       "      <th>2013-01-06</th>\n",
       "      <td>0.163206</td>\n",
       "      <td>-0.202259</td>\n",
       "    </tr>\n",
       "  </tbody>\n",
       "</table>\n",
       "</div>"
      ],
      "text/plain": [
       "                   A         B\n",
       "2013-01-01  0.640245  0.221888\n",
       "2013-01-02 -0.842354 -1.756285\n",
       "2013-01-03 -0.298022 -0.768641\n",
       "2013-01-04 -1.984155  0.740455\n",
       "2013-01-05 -1.918457 -0.258365\n",
       "2013-01-06  0.163206 -0.202259"
      ]
     },
     "execution_count": 17,
     "metadata": {},
     "output_type": "execute_result"
    }
   ],
   "source": [
    "df.loc[:,['A','B']]  #df.loc[:,'A':'B']と同義。注意点[コロンが必要]\n",
    "#df.loc['20130101':'20130106',['A','B']]といった設定もできる"
   ]
  },
  {
   "cell_type": "code",
   "execution_count": 18,
   "metadata": {},
   "outputs": [
    {
     "data": {
      "text/plain": [
       "0.6402446576728557"
      ]
     },
     "execution_count": 18,
     "metadata": {},
     "output_type": "execute_result"
    }
   ],
   "source": [
    "df.at[dates[0],'A']  #単一のバリューを取得する場合。df.at[\"20130101\",\"A\"]と同義"
   ]
  },
  {
   "cell_type": "markdown",
   "metadata": {},
   "source": [
    "#### 5-3. ポジションによるセレクション"
   ]
  },
  {
   "cell_type": "code",
   "execution_count": 19,
   "metadata": {},
   "outputs": [
    {
     "data": {
      "text/plain": [
       "A   -1.984155\n",
       "B    0.740455\n",
       "C   -0.928366\n",
       "D   -0.510639\n",
       "Name: 2013-01-04 00:00:00, dtype: float64"
      ]
     },
     "execution_count": 19,
     "metadata": {},
     "output_type": "execute_result"
    }
   ],
   "source": [
    "df.iloc[3]  #インデックスの順番に沿ったint型で取得するデータを指定できる。df.loc[\"20130104\"]と同じ"
   ]
  },
  {
   "cell_type": "code",
   "execution_count": 20,
   "metadata": {},
   "outputs": [
    {
     "data": {
      "text/html": [
       "<div>\n",
       "<style scoped>\n",
       "    .dataframe tbody tr th:only-of-type {\n",
       "        vertical-align: middle;\n",
       "    }\n",
       "\n",
       "    .dataframe tbody tr th {\n",
       "        vertical-align: top;\n",
       "    }\n",
       "\n",
       "    .dataframe thead th {\n",
       "        text-align: right;\n",
       "    }\n",
       "</style>\n",
       "<table border=\"1\" class=\"dataframe\">\n",
       "  <thead>\n",
       "    <tr style=\"text-align: right;\">\n",
       "      <th></th>\n",
       "      <th>A</th>\n",
       "      <th>B</th>\n",
       "    </tr>\n",
       "  </thead>\n",
       "  <tbody>\n",
       "    <tr>\n",
       "      <th>2013-01-04</th>\n",
       "      <td>-1.984155</td>\n",
       "      <td>0.740455</td>\n",
       "    </tr>\n",
       "    <tr>\n",
       "      <th>2013-01-05</th>\n",
       "      <td>-1.918457</td>\n",
       "      <td>-0.258365</td>\n",
       "    </tr>\n",
       "  </tbody>\n",
       "</table>\n",
       "</div>"
      ],
      "text/plain": [
       "                   A         B\n",
       "2013-01-04 -1.984155  0.740455\n",
       "2013-01-05 -1.918457 -0.258365"
      ]
     },
     "execution_count": 20,
     "metadata": {},
     "output_type": "execute_result"
    }
   ],
   "source": [
    "df.iloc[3:5,0:2]"
   ]
  },
  {
   "cell_type": "code",
   "execution_count": 21,
   "metadata": {},
   "outputs": [
    {
     "data": {
      "text/plain": [
       "-1.7562847477402643"
      ]
     },
     "execution_count": 21,
     "metadata": {},
     "output_type": "execute_result"
    }
   ],
   "source": [
    "df.iat[1,1]  #df.atのint版"
   ]
  },
  {
   "cell_type": "markdown",
   "metadata": {},
   "source": [
    "#### 5-4. bool式"
   ]
  },
  {
   "cell_type": "code",
   "execution_count": 22,
   "metadata": {},
   "outputs": [
    {
     "data": {
      "text/html": [
       "<div>\n",
       "<style scoped>\n",
       "    .dataframe tbody tr th:only-of-type {\n",
       "        vertical-align: middle;\n",
       "    }\n",
       "\n",
       "    .dataframe tbody tr th {\n",
       "        vertical-align: top;\n",
       "    }\n",
       "\n",
       "    .dataframe thead th {\n",
       "        text-align: right;\n",
       "    }\n",
       "</style>\n",
       "<table border=\"1\" class=\"dataframe\">\n",
       "  <thead>\n",
       "    <tr style=\"text-align: right;\">\n",
       "      <th></th>\n",
       "      <th>A</th>\n",
       "      <th>B</th>\n",
       "      <th>C</th>\n",
       "      <th>D</th>\n",
       "    </tr>\n",
       "  </thead>\n",
       "  <tbody>\n",
       "    <tr>\n",
       "      <th>2013-01-01</th>\n",
       "      <td>0.640245</td>\n",
       "      <td>0.221888</td>\n",
       "      <td>0.161165</td>\n",
       "      <td>-0.158784</td>\n",
       "    </tr>\n",
       "    <tr>\n",
       "      <th>2013-01-06</th>\n",
       "      <td>0.163206</td>\n",
       "      <td>-0.202259</td>\n",
       "      <td>0.119820</td>\n",
       "      <td>0.606145</td>\n",
       "    </tr>\n",
       "  </tbody>\n",
       "</table>\n",
       "</div>"
      ],
      "text/plain": [
       "                   A         B         C         D\n",
       "2013-01-01  0.640245  0.221888  0.161165 -0.158784\n",
       "2013-01-06  0.163206 -0.202259  0.119820  0.606145"
      ]
     },
     "execution_count": 22,
     "metadata": {},
     "output_type": "execute_result"
    }
   ],
   "source": [
    "df[df.A > 0]  #条件を満たすバリューを返す"
   ]
  },
  {
   "cell_type": "code",
   "execution_count": 23,
   "metadata": {},
   "outputs": [
    {
     "data": {
      "text/html": [
       "<div>\n",
       "<style scoped>\n",
       "    .dataframe tbody tr th:only-of-type {\n",
       "        vertical-align: middle;\n",
       "    }\n",
       "\n",
       "    .dataframe tbody tr th {\n",
       "        vertical-align: top;\n",
       "    }\n",
       "\n",
       "    .dataframe thead th {\n",
       "        text-align: right;\n",
       "    }\n",
       "</style>\n",
       "<table border=\"1\" class=\"dataframe\">\n",
       "  <thead>\n",
       "    <tr style=\"text-align: right;\">\n",
       "      <th></th>\n",
       "      <th>A</th>\n",
       "      <th>B</th>\n",
       "      <th>C</th>\n",
       "      <th>D</th>\n",
       "    </tr>\n",
       "  </thead>\n",
       "  <tbody>\n",
       "    <tr>\n",
       "      <th>2013-01-01</th>\n",
       "      <td>0.640245</td>\n",
       "      <td>0.221888</td>\n",
       "      <td>0.161165</td>\n",
       "      <td>NaN</td>\n",
       "    </tr>\n",
       "    <tr>\n",
       "      <th>2013-01-02</th>\n",
       "      <td>NaN</td>\n",
       "      <td>NaN</td>\n",
       "      <td>NaN</td>\n",
       "      <td>NaN</td>\n",
       "    </tr>\n",
       "    <tr>\n",
       "      <th>2013-01-03</th>\n",
       "      <td>NaN</td>\n",
       "      <td>NaN</td>\n",
       "      <td>NaN</td>\n",
       "      <td>NaN</td>\n",
       "    </tr>\n",
       "    <tr>\n",
       "      <th>2013-01-04</th>\n",
       "      <td>NaN</td>\n",
       "      <td>0.740455</td>\n",
       "      <td>NaN</td>\n",
       "      <td>NaN</td>\n",
       "    </tr>\n",
       "    <tr>\n",
       "      <th>2013-01-05</th>\n",
       "      <td>NaN</td>\n",
       "      <td>NaN</td>\n",
       "      <td>NaN</td>\n",
       "      <td>2.910253</td>\n",
       "    </tr>\n",
       "    <tr>\n",
       "      <th>2013-01-06</th>\n",
       "      <td>0.163206</td>\n",
       "      <td>NaN</td>\n",
       "      <td>0.119820</td>\n",
       "      <td>0.606145</td>\n",
       "    </tr>\n",
       "  </tbody>\n",
       "</table>\n",
       "</div>"
      ],
      "text/plain": [
       "                   A         B         C         D\n",
       "2013-01-01  0.640245  0.221888  0.161165       NaN\n",
       "2013-01-02       NaN       NaN       NaN       NaN\n",
       "2013-01-03       NaN       NaN       NaN       NaN\n",
       "2013-01-04       NaN  0.740455       NaN       NaN\n",
       "2013-01-05       NaN       NaN       NaN  2.910253\n",
       "2013-01-06  0.163206       NaN  0.119820  0.606145"
      ]
     },
     "execution_count": 23,
     "metadata": {},
     "output_type": "execute_result"
    }
   ],
   "source": [
    "df[df > 0]"
   ]
  },
  {
   "cell_type": "code",
   "execution_count": 24,
   "metadata": {},
   "outputs": [
    {
     "data": {
      "text/html": [
       "<div>\n",
       "<style scoped>\n",
       "    .dataframe tbody tr th:only-of-type {\n",
       "        vertical-align: middle;\n",
       "    }\n",
       "\n",
       "    .dataframe tbody tr th {\n",
       "        vertical-align: top;\n",
       "    }\n",
       "\n",
       "    .dataframe thead th {\n",
       "        text-align: right;\n",
       "    }\n",
       "</style>\n",
       "<table border=\"1\" class=\"dataframe\">\n",
       "  <thead>\n",
       "    <tr style=\"text-align: right;\">\n",
       "      <th></th>\n",
       "      <th>A</th>\n",
       "      <th>B</th>\n",
       "      <th>C</th>\n",
       "      <th>D</th>\n",
       "      <th>E</th>\n",
       "    </tr>\n",
       "  </thead>\n",
       "  <tbody>\n",
       "    <tr>\n",
       "      <th>2013-01-01</th>\n",
       "      <td>0.640245</td>\n",
       "      <td>0.221888</td>\n",
       "      <td>0.161165</td>\n",
       "      <td>-0.158784</td>\n",
       "      <td>one</td>\n",
       "    </tr>\n",
       "    <tr>\n",
       "      <th>2013-01-02</th>\n",
       "      <td>-0.842354</td>\n",
       "      <td>-1.756285</td>\n",
       "      <td>-0.629484</td>\n",
       "      <td>-1.589416</td>\n",
       "      <td>one</td>\n",
       "    </tr>\n",
       "    <tr>\n",
       "      <th>2013-01-03</th>\n",
       "      <td>-0.298022</td>\n",
       "      <td>-0.768641</td>\n",
       "      <td>-0.613439</td>\n",
       "      <td>-0.665621</td>\n",
       "      <td>two</td>\n",
       "    </tr>\n",
       "    <tr>\n",
       "      <th>2013-01-04</th>\n",
       "      <td>-1.984155</td>\n",
       "      <td>0.740455</td>\n",
       "      <td>-0.928366</td>\n",
       "      <td>-0.510639</td>\n",
       "      <td>three</td>\n",
       "    </tr>\n",
       "    <tr>\n",
       "      <th>2013-01-05</th>\n",
       "      <td>-1.918457</td>\n",
       "      <td>-0.258365</td>\n",
       "      <td>-1.469069</td>\n",
       "      <td>2.910253</td>\n",
       "      <td>four</td>\n",
       "    </tr>\n",
       "    <tr>\n",
       "      <th>2013-01-06</th>\n",
       "      <td>0.163206</td>\n",
       "      <td>-0.202259</td>\n",
       "      <td>0.119820</td>\n",
       "      <td>0.606145</td>\n",
       "      <td>three</td>\n",
       "    </tr>\n",
       "  </tbody>\n",
       "</table>\n",
       "</div>"
      ],
      "text/plain": [
       "                   A         B         C         D      E\n",
       "2013-01-01  0.640245  0.221888  0.161165 -0.158784    one\n",
       "2013-01-02 -0.842354 -1.756285 -0.629484 -1.589416    one\n",
       "2013-01-03 -0.298022 -0.768641 -0.613439 -0.665621    two\n",
       "2013-01-04 -1.984155  0.740455 -0.928366 -0.510639  three\n",
       "2013-01-05 -1.918457 -0.258365 -1.469069  2.910253   four\n",
       "2013-01-06  0.163206 -0.202259  0.119820  0.606145  three"
      ]
     },
     "execution_count": 24,
     "metadata": {},
     "output_type": "execute_result"
    }
   ],
   "source": [
    "df2 = df.copy()  #DataFrameオブジェクトのコピーを作成\n",
    "df2['E'] = ['one', 'one','two','three','four','three']\n",
    "df2"
   ]
  },
  {
   "cell_type": "markdown",
   "metadata": {},
   "source": [
    "#### 5-5. セッティング"
   ]
  },
  {
   "cell_type": "code",
   "execution_count": 25,
   "metadata": {},
   "outputs": [
    {
     "data": {
      "text/html": [
       "<div>\n",
       "<style scoped>\n",
       "    .dataframe tbody tr th:only-of-type {\n",
       "        vertical-align: middle;\n",
       "    }\n",
       "\n",
       "    .dataframe tbody tr th {\n",
       "        vertical-align: top;\n",
       "    }\n",
       "\n",
       "    .dataframe thead th {\n",
       "        text-align: right;\n",
       "    }\n",
       "</style>\n",
       "<table border=\"1\" class=\"dataframe\">\n",
       "  <thead>\n",
       "    <tr style=\"text-align: right;\">\n",
       "      <th></th>\n",
       "      <th>A</th>\n",
       "      <th>B</th>\n",
       "      <th>C</th>\n",
       "      <th>D</th>\n",
       "      <th>F</th>\n",
       "    </tr>\n",
       "  </thead>\n",
       "  <tbody>\n",
       "    <tr>\n",
       "      <th>2013-01-01</th>\n",
       "      <td>0.000000</td>\n",
       "      <td>0.000000</td>\n",
       "      <td>0.161165</td>\n",
       "      <td>5</td>\n",
       "      <td>NaN</td>\n",
       "    </tr>\n",
       "    <tr>\n",
       "      <th>2013-01-02</th>\n",
       "      <td>-0.842354</td>\n",
       "      <td>-1.756285</td>\n",
       "      <td>-0.629484</td>\n",
       "      <td>5</td>\n",
       "      <td>1.0</td>\n",
       "    </tr>\n",
       "    <tr>\n",
       "      <th>2013-01-03</th>\n",
       "      <td>-0.298022</td>\n",
       "      <td>-0.768641</td>\n",
       "      <td>-0.613439</td>\n",
       "      <td>5</td>\n",
       "      <td>2.0</td>\n",
       "    </tr>\n",
       "    <tr>\n",
       "      <th>2013-01-04</th>\n",
       "      <td>-1.984155</td>\n",
       "      <td>0.740455</td>\n",
       "      <td>-0.928366</td>\n",
       "      <td>5</td>\n",
       "      <td>3.0</td>\n",
       "    </tr>\n",
       "    <tr>\n",
       "      <th>2013-01-05</th>\n",
       "      <td>-1.918457</td>\n",
       "      <td>-0.258365</td>\n",
       "      <td>-1.469069</td>\n",
       "      <td>5</td>\n",
       "      <td>4.0</td>\n",
       "    </tr>\n",
       "    <tr>\n",
       "      <th>2013-01-06</th>\n",
       "      <td>0.163206</td>\n",
       "      <td>-0.202259</td>\n",
       "      <td>0.119820</td>\n",
       "      <td>5</td>\n",
       "      <td>5.0</td>\n",
       "    </tr>\n",
       "  </tbody>\n",
       "</table>\n",
       "</div>"
      ],
      "text/plain": [
       "                   A         B         C  D    F\n",
       "2013-01-01  0.000000  0.000000  0.161165  5  NaN\n",
       "2013-01-02 -0.842354 -1.756285 -0.629484  5  1.0\n",
       "2013-01-03 -0.298022 -0.768641 -0.613439  5  2.0\n",
       "2013-01-04 -1.984155  0.740455 -0.928366  5  3.0\n",
       "2013-01-05 -1.918457 -0.258365 -1.469069  5  4.0\n",
       "2013-01-06  0.163206 -0.202259  0.119820  5  5.0"
      ]
     },
     "execution_count": 25,
     "metadata": {},
     "output_type": "execute_result"
    }
   ],
   "source": [
    "df['F'] = pd.Series([1,2,3,4,5,6], index=pd.date_range('20130102', periods=6))  #F行の指定\n",
    "df.at[dates[0],'A'] = 0  #df[\"20130101\",\"A\"]のバリュー変更\n",
    "df.iat[0,1] = 0  #df[\"20130101\",\"B\"]のバリュー変更\n",
    "df.loc[:,'D'] = np.array([5] * len(df))  #D行のバリュー変更\n",
    "df"
   ]
  },
  {
   "cell_type": "markdown",
   "metadata": {},
   "source": [
    "#### 5-6.欠損値\n",
    "* pandasでは欠損値の表示にnp.nanが使用される。初期設定で計算に反映されないようになっている。"
   ]
  },
  {
   "cell_type": "code",
   "execution_count": 26,
   "metadata": {},
   "outputs": [
    {
     "data": {
      "text/html": [
       "<div>\n",
       "<style scoped>\n",
       "    .dataframe tbody tr th:only-of-type {\n",
       "        vertical-align: middle;\n",
       "    }\n",
       "\n",
       "    .dataframe tbody tr th {\n",
       "        vertical-align: top;\n",
       "    }\n",
       "\n",
       "    .dataframe thead th {\n",
       "        text-align: right;\n",
       "    }\n",
       "</style>\n",
       "<table border=\"1\" class=\"dataframe\">\n",
       "  <thead>\n",
       "    <tr style=\"text-align: right;\">\n",
       "      <th></th>\n",
       "      <th>A</th>\n",
       "      <th>B</th>\n",
       "      <th>C</th>\n",
       "      <th>D</th>\n",
       "      <th>F</th>\n",
       "      <th>E</th>\n",
       "    </tr>\n",
       "  </thead>\n",
       "  <tbody>\n",
       "    <tr>\n",
       "      <th>2013-01-01</th>\n",
       "      <td>0.000000</td>\n",
       "      <td>0.000000</td>\n",
       "      <td>0.161165</td>\n",
       "      <td>5</td>\n",
       "      <td>NaN</td>\n",
       "      <td>1.0</td>\n",
       "    </tr>\n",
       "    <tr>\n",
       "      <th>2013-01-02</th>\n",
       "      <td>-0.842354</td>\n",
       "      <td>-1.756285</td>\n",
       "      <td>-0.629484</td>\n",
       "      <td>5</td>\n",
       "      <td>1.0</td>\n",
       "      <td>1.0</td>\n",
       "    </tr>\n",
       "    <tr>\n",
       "      <th>2013-01-03</th>\n",
       "      <td>-0.298022</td>\n",
       "      <td>-0.768641</td>\n",
       "      <td>-0.613439</td>\n",
       "      <td>5</td>\n",
       "      <td>2.0</td>\n",
       "      <td>NaN</td>\n",
       "    </tr>\n",
       "    <tr>\n",
       "      <th>2013-01-04</th>\n",
       "      <td>-1.984155</td>\n",
       "      <td>0.740455</td>\n",
       "      <td>-0.928366</td>\n",
       "      <td>5</td>\n",
       "      <td>3.0</td>\n",
       "      <td>NaN</td>\n",
       "    </tr>\n",
       "  </tbody>\n",
       "</table>\n",
       "</div>"
      ],
      "text/plain": [
       "                   A         B         C  D    F    E\n",
       "2013-01-01  0.000000  0.000000  0.161165  5  NaN  1.0\n",
       "2013-01-02 -0.842354 -1.756285 -0.629484  5  1.0  1.0\n",
       "2013-01-03 -0.298022 -0.768641 -0.613439  5  2.0  NaN\n",
       "2013-01-04 -1.984155  0.740455 -0.928366  5  3.0  NaN"
      ]
     },
     "execution_count": 26,
     "metadata": {},
     "output_type": "execute_result"
    }
   ],
   "source": [
    "df1 = df.reindex(index=dates[0:4], columns=list(df.columns) + ['E'])  #インデックスの再割り当て\n",
    "df1.loc[dates[0]:dates[1],'E'] = 1  #E行の割り当て\n",
    "df1\n",
    "#下の表で欠損値がNaNで表示されているのがわかる"
   ]
  },
  {
   "cell_type": "code",
   "execution_count": 27,
   "metadata": {},
   "outputs": [
    {
     "data": {
      "text/html": [
       "<div>\n",
       "<style scoped>\n",
       "    .dataframe tbody tr th:only-of-type {\n",
       "        vertical-align: middle;\n",
       "    }\n",
       "\n",
       "    .dataframe tbody tr th {\n",
       "        vertical-align: top;\n",
       "    }\n",
       "\n",
       "    .dataframe thead th {\n",
       "        text-align: right;\n",
       "    }\n",
       "</style>\n",
       "<table border=\"1\" class=\"dataframe\">\n",
       "  <thead>\n",
       "    <tr style=\"text-align: right;\">\n",
       "      <th></th>\n",
       "      <th>A</th>\n",
       "      <th>B</th>\n",
       "      <th>C</th>\n",
       "      <th>D</th>\n",
       "      <th>F</th>\n",
       "      <th>E</th>\n",
       "    </tr>\n",
       "  </thead>\n",
       "  <tbody>\n",
       "    <tr>\n",
       "      <th>2013-01-02</th>\n",
       "      <td>-0.842354</td>\n",
       "      <td>-1.756285</td>\n",
       "      <td>-0.629484</td>\n",
       "      <td>5</td>\n",
       "      <td>1.0</td>\n",
       "      <td>1.0</td>\n",
       "    </tr>\n",
       "  </tbody>\n",
       "</table>\n",
       "</div>"
      ],
      "text/plain": [
       "                   A         B         C  D    F    E\n",
       "2013-01-02 -0.842354 -1.756285 -0.629484  5  1.0  1.0"
      ]
     },
     "execution_count": 27,
     "metadata": {},
     "output_type": "execute_result"
    }
   ],
   "source": [
    "df1.dropna(how='any')  #欠損値を除外"
   ]
  },
  {
   "cell_type": "code",
   "execution_count": 28,
   "metadata": {},
   "outputs": [
    {
     "data": {
      "text/html": [
       "<div>\n",
       "<style scoped>\n",
       "    .dataframe tbody tr th:only-of-type {\n",
       "        vertical-align: middle;\n",
       "    }\n",
       "\n",
       "    .dataframe tbody tr th {\n",
       "        vertical-align: top;\n",
       "    }\n",
       "\n",
       "    .dataframe thead th {\n",
       "        text-align: right;\n",
       "    }\n",
       "</style>\n",
       "<table border=\"1\" class=\"dataframe\">\n",
       "  <thead>\n",
       "    <tr style=\"text-align: right;\">\n",
       "      <th></th>\n",
       "      <th>A</th>\n",
       "      <th>B</th>\n",
       "      <th>C</th>\n",
       "      <th>D</th>\n",
       "      <th>F</th>\n",
       "      <th>E</th>\n",
       "    </tr>\n",
       "  </thead>\n",
       "  <tbody>\n",
       "    <tr>\n",
       "      <th>2013-01-01</th>\n",
       "      <td>0.000000</td>\n",
       "      <td>0.000000</td>\n",
       "      <td>0.161165</td>\n",
       "      <td>5</td>\n",
       "      <td>5.0</td>\n",
       "      <td>1.0</td>\n",
       "    </tr>\n",
       "    <tr>\n",
       "      <th>2013-01-02</th>\n",
       "      <td>-0.842354</td>\n",
       "      <td>-1.756285</td>\n",
       "      <td>-0.629484</td>\n",
       "      <td>5</td>\n",
       "      <td>1.0</td>\n",
       "      <td>1.0</td>\n",
       "    </tr>\n",
       "    <tr>\n",
       "      <th>2013-01-03</th>\n",
       "      <td>-0.298022</td>\n",
       "      <td>-0.768641</td>\n",
       "      <td>-0.613439</td>\n",
       "      <td>5</td>\n",
       "      <td>2.0</td>\n",
       "      <td>5.0</td>\n",
       "    </tr>\n",
       "    <tr>\n",
       "      <th>2013-01-04</th>\n",
       "      <td>-1.984155</td>\n",
       "      <td>0.740455</td>\n",
       "      <td>-0.928366</td>\n",
       "      <td>5</td>\n",
       "      <td>3.0</td>\n",
       "      <td>5.0</td>\n",
       "    </tr>\n",
       "  </tbody>\n",
       "</table>\n",
       "</div>"
      ],
      "text/plain": [
       "                   A         B         C  D    F    E\n",
       "2013-01-01  0.000000  0.000000  0.161165  5  5.0  1.0\n",
       "2013-01-02 -0.842354 -1.756285 -0.629484  5  1.0  1.0\n",
       "2013-01-03 -0.298022 -0.768641 -0.613439  5  2.0  5.0\n",
       "2013-01-04 -1.984155  0.740455 -0.928366  5  3.0  5.0"
      ]
     },
     "execution_count": 28,
     "metadata": {},
     "output_type": "execute_result"
    }
   ],
   "source": [
    "df1.fillna(value=5)  #欠損値を補充"
   ]
  },
  {
   "cell_type": "code",
   "execution_count": 29,
   "metadata": {},
   "outputs": [
    {
     "data": {
      "text/html": [
       "<div>\n",
       "<style scoped>\n",
       "    .dataframe tbody tr th:only-of-type {\n",
       "        vertical-align: middle;\n",
       "    }\n",
       "\n",
       "    .dataframe tbody tr th {\n",
       "        vertical-align: top;\n",
       "    }\n",
       "\n",
       "    .dataframe thead th {\n",
       "        text-align: right;\n",
       "    }\n",
       "</style>\n",
       "<table border=\"1\" class=\"dataframe\">\n",
       "  <thead>\n",
       "    <tr style=\"text-align: right;\">\n",
       "      <th></th>\n",
       "      <th>A</th>\n",
       "      <th>B</th>\n",
       "      <th>C</th>\n",
       "      <th>D</th>\n",
       "      <th>F</th>\n",
       "      <th>E</th>\n",
       "    </tr>\n",
       "  </thead>\n",
       "  <tbody>\n",
       "    <tr>\n",
       "      <th>2013-01-01</th>\n",
       "      <td>False</td>\n",
       "      <td>False</td>\n",
       "      <td>False</td>\n",
       "      <td>False</td>\n",
       "      <td>True</td>\n",
       "      <td>False</td>\n",
       "    </tr>\n",
       "    <tr>\n",
       "      <th>2013-01-02</th>\n",
       "      <td>False</td>\n",
       "      <td>False</td>\n",
       "      <td>False</td>\n",
       "      <td>False</td>\n",
       "      <td>False</td>\n",
       "      <td>False</td>\n",
       "    </tr>\n",
       "    <tr>\n",
       "      <th>2013-01-03</th>\n",
       "      <td>False</td>\n",
       "      <td>False</td>\n",
       "      <td>False</td>\n",
       "      <td>False</td>\n",
       "      <td>False</td>\n",
       "      <td>True</td>\n",
       "    </tr>\n",
       "    <tr>\n",
       "      <th>2013-01-04</th>\n",
       "      <td>False</td>\n",
       "      <td>False</td>\n",
       "      <td>False</td>\n",
       "      <td>False</td>\n",
       "      <td>False</td>\n",
       "      <td>True</td>\n",
       "    </tr>\n",
       "  </tbody>\n",
       "</table>\n",
       "</div>"
      ],
      "text/plain": [
       "                A      B      C      D      F      E\n",
       "2013-01-01  False  False  False  False   True  False\n",
       "2013-01-02  False  False  False  False  False  False\n",
       "2013-01-03  False  False  False  False  False   True\n",
       "2013-01-04  False  False  False  False  False   True"
      ]
     },
     "execution_count": 29,
     "metadata": {},
     "output_type": "execute_result"
    }
   ],
   "source": [
    "pd.isna(df1)  #欠損値の部分をFalse、欠損値でない部分をTrueで表し、欠損値を見つけ出すメソッド"
   ]
  },
  {
   "cell_type": "markdown",
   "metadata": {},
   "source": [
    "### 6. オペレーション"
   ]
  },
  {
   "cell_type": "markdown",
   "metadata": {},
   "source": [
    "#### 6-1. 統計\n",
    "* 基本的に欠損値を除外して計算される"
   ]
  },
  {
   "cell_type": "code",
   "execution_count": 30,
   "metadata": {},
   "outputs": [
    {
     "data": {
      "text/plain": [
       "A   -0.813297\n",
       "B   -0.374182\n",
       "C   -0.559896\n",
       "D    5.000000\n",
       "F    3.000000\n",
       "dtype: float64"
      ]
     },
     "execution_count": 30,
     "metadata": {},
     "output_type": "execute_result"
    }
   ],
   "source": [
    "df.mean()  #平均を返す"
   ]
  },
  {
   "cell_type": "code",
   "execution_count": 31,
   "metadata": {},
   "outputs": [
    {
     "data": {
      "text/plain": [
       "2013-01-01    1.290291\n",
       "2013-01-02    0.554375\n",
       "2013-01-03    1.063980\n",
       "2013-01-04    1.165587\n",
       "2013-01-05    1.070822\n",
       "2013-01-06    2.016153\n",
       "Freq: D, dtype: float64"
      ]
     },
     "execution_count": 31,
     "metadata": {},
     "output_type": "execute_result"
    }
   ],
   "source": [
    "df.mean(1)  #カラムが軸"
   ]
  },
  {
   "cell_type": "code",
   "execution_count": 32,
   "metadata": {},
   "outputs": [
    {
     "data": {
      "text/plain": [
       "2013-01-01    NaN\n",
       "2013-01-02    NaN\n",
       "2013-01-03    1.0\n",
       "2013-01-04    3.0\n",
       "2013-01-05    5.0\n",
       "2013-01-06    NaN\n",
       "Freq: D, dtype: float64"
      ]
     },
     "execution_count": 32,
     "metadata": {},
     "output_type": "execute_result"
    }
   ],
   "source": [
    "s = pd.Series([1,3,5,np.nan,6,8], index=dates).shift(2)  #nこ動かすメソッド\n",
    "s"
   ]
  },
  {
   "cell_type": "code",
   "execution_count": 33,
   "metadata": {},
   "outputs": [
    {
     "data": {
      "text/html": [
       "<div>\n",
       "<style scoped>\n",
       "    .dataframe tbody tr th:only-of-type {\n",
       "        vertical-align: middle;\n",
       "    }\n",
       "\n",
       "    .dataframe tbody tr th {\n",
       "        vertical-align: top;\n",
       "    }\n",
       "\n",
       "    .dataframe thead th {\n",
       "        text-align: right;\n",
       "    }\n",
       "</style>\n",
       "<table border=\"1\" class=\"dataframe\">\n",
       "  <thead>\n",
       "    <tr style=\"text-align: right;\">\n",
       "      <th></th>\n",
       "      <th>A</th>\n",
       "      <th>B</th>\n",
       "      <th>C</th>\n",
       "      <th>D</th>\n",
       "      <th>F</th>\n",
       "    </tr>\n",
       "  </thead>\n",
       "  <tbody>\n",
       "    <tr>\n",
       "      <th>2013-01-01</th>\n",
       "      <td>NaN</td>\n",
       "      <td>NaN</td>\n",
       "      <td>NaN</td>\n",
       "      <td>NaN</td>\n",
       "      <td>NaN</td>\n",
       "    </tr>\n",
       "    <tr>\n",
       "      <th>2013-01-02</th>\n",
       "      <td>NaN</td>\n",
       "      <td>NaN</td>\n",
       "      <td>NaN</td>\n",
       "      <td>NaN</td>\n",
       "      <td>NaN</td>\n",
       "    </tr>\n",
       "    <tr>\n",
       "      <th>2013-01-03</th>\n",
       "      <td>-1.298022</td>\n",
       "      <td>-1.768641</td>\n",
       "      <td>-1.613439</td>\n",
       "      <td>4.0</td>\n",
       "      <td>1.0</td>\n",
       "    </tr>\n",
       "    <tr>\n",
       "      <th>2013-01-04</th>\n",
       "      <td>-4.984155</td>\n",
       "      <td>-2.259545</td>\n",
       "      <td>-3.928366</td>\n",
       "      <td>2.0</td>\n",
       "      <td>0.0</td>\n",
       "    </tr>\n",
       "    <tr>\n",
       "      <th>2013-01-05</th>\n",
       "      <td>-6.918457</td>\n",
       "      <td>-5.258365</td>\n",
       "      <td>-6.469069</td>\n",
       "      <td>0.0</td>\n",
       "      <td>-1.0</td>\n",
       "    </tr>\n",
       "    <tr>\n",
       "      <th>2013-01-06</th>\n",
       "      <td>NaN</td>\n",
       "      <td>NaN</td>\n",
       "      <td>NaN</td>\n",
       "      <td>NaN</td>\n",
       "      <td>NaN</td>\n",
       "    </tr>\n",
       "  </tbody>\n",
       "</table>\n",
       "</div>"
      ],
      "text/plain": [
       "                   A         B         C    D    F\n",
       "2013-01-01       NaN       NaN       NaN  NaN  NaN\n",
       "2013-01-02       NaN       NaN       NaN  NaN  NaN\n",
       "2013-01-03 -1.298022 -1.768641 -1.613439  4.0  1.0\n",
       "2013-01-04 -4.984155 -2.259545 -3.928366  2.0  0.0\n",
       "2013-01-05 -6.918457 -5.258365 -6.469069  0.0 -1.0\n",
       "2013-01-06       NaN       NaN       NaN  NaN  NaN"
      ]
     },
     "execution_count": 33,
     "metadata": {},
     "output_type": "execute_result"
    }
   ],
   "source": [
    "df.sub(s, axis='index')  #他の要素とデータフレームとの減算(df-s)"
   ]
  },
  {
   "cell_type": "markdown",
   "metadata": {},
   "source": [
    "#### 6-2. 適用\n",
    "* データへの関数の適用"
   ]
  },
  {
   "cell_type": "code",
   "execution_count": 34,
   "metadata": {},
   "outputs": [
    {
     "data": {
      "text/html": [
       "<div>\n",
       "<style scoped>\n",
       "    .dataframe tbody tr th:only-of-type {\n",
       "        vertical-align: middle;\n",
       "    }\n",
       "\n",
       "    .dataframe tbody tr th {\n",
       "        vertical-align: top;\n",
       "    }\n",
       "\n",
       "    .dataframe thead th {\n",
       "        text-align: right;\n",
       "    }\n",
       "</style>\n",
       "<table border=\"1\" class=\"dataframe\">\n",
       "  <thead>\n",
       "    <tr style=\"text-align: right;\">\n",
       "      <th></th>\n",
       "      <th>A</th>\n",
       "      <th>B</th>\n",
       "      <th>C</th>\n",
       "      <th>D</th>\n",
       "      <th>F</th>\n",
       "    </tr>\n",
       "  </thead>\n",
       "  <tbody>\n",
       "    <tr>\n",
       "      <th>2013-01-01</th>\n",
       "      <td>0.000000</td>\n",
       "      <td>0.000000</td>\n",
       "      <td>0.161165</td>\n",
       "      <td>5</td>\n",
       "      <td>NaN</td>\n",
       "    </tr>\n",
       "    <tr>\n",
       "      <th>2013-01-02</th>\n",
       "      <td>-0.842354</td>\n",
       "      <td>-1.756285</td>\n",
       "      <td>-0.468319</td>\n",
       "      <td>10</td>\n",
       "      <td>1.0</td>\n",
       "    </tr>\n",
       "    <tr>\n",
       "      <th>2013-01-03</th>\n",
       "      <td>-1.140376</td>\n",
       "      <td>-2.524926</td>\n",
       "      <td>-1.081758</td>\n",
       "      <td>15</td>\n",
       "      <td>3.0</td>\n",
       "    </tr>\n",
       "    <tr>\n",
       "      <th>2013-01-04</th>\n",
       "      <td>-3.124530</td>\n",
       "      <td>-1.784471</td>\n",
       "      <td>-2.010124</td>\n",
       "      <td>20</td>\n",
       "      <td>6.0</td>\n",
       "    </tr>\n",
       "    <tr>\n",
       "      <th>2013-01-05</th>\n",
       "      <td>-5.042988</td>\n",
       "      <td>-2.042835</td>\n",
       "      <td>-3.479193</td>\n",
       "      <td>25</td>\n",
       "      <td>10.0</td>\n",
       "    </tr>\n",
       "    <tr>\n",
       "      <th>2013-01-06</th>\n",
       "      <td>-4.879782</td>\n",
       "      <td>-2.245094</td>\n",
       "      <td>-3.359373</td>\n",
       "      <td>30</td>\n",
       "      <td>15.0</td>\n",
       "    </tr>\n",
       "  </tbody>\n",
       "</table>\n",
       "</div>"
      ],
      "text/plain": [
       "                   A         B         C   D     F\n",
       "2013-01-01  0.000000  0.000000  0.161165   5   NaN\n",
       "2013-01-02 -0.842354 -1.756285 -0.468319  10   1.0\n",
       "2013-01-03 -1.140376 -2.524926 -1.081758  15   3.0\n",
       "2013-01-04 -3.124530 -1.784471 -2.010124  20   6.0\n",
       "2013-01-05 -5.042988 -2.042835 -3.479193  25  10.0\n",
       "2013-01-06 -4.879782 -2.245094 -3.359373  30  15.0"
      ]
     },
     "execution_count": 34,
     "metadata": {},
     "output_type": "execute_result"
    }
   ],
   "source": [
    "df.apply(np.cumsum)  #データに関数を通すメソッド(np.cumsum()は累積和を返すメソッド)"
   ]
  },
  {
   "cell_type": "code",
   "execution_count": 35,
   "metadata": {},
   "outputs": [
    {
     "data": {
      "text/plain": [
       "A    2.147360\n",
       "B    2.496740\n",
       "C    1.630234\n",
       "D    0.000000\n",
       "F    4.000000\n",
       "dtype: float64"
      ]
     },
     "execution_count": 35,
     "metadata": {},
     "output_type": "execute_result"
    }
   ],
   "source": [
    "df.apply(lambda x: x.max() - x.min())  #最大値ー最小値"
   ]
  },
  {
   "cell_type": "markdown",
   "metadata": {},
   "source": [
    "#### 6-3. ヒストグラム"
   ]
  },
  {
   "cell_type": "code",
   "execution_count": 36,
   "metadata": {},
   "outputs": [
    {
     "data": {
      "text/plain": [
       "0    3\n",
       "1    4\n",
       "2    1\n",
       "3    3\n",
       "4    4\n",
       "5    0\n",
       "6    5\n",
       "7    0\n",
       "8    6\n",
       "9    2\n",
       "dtype: int64"
      ]
     },
     "execution_count": 36,
     "metadata": {},
     "output_type": "execute_result"
    }
   ],
   "source": [
    "s = pd.Series(np.random.randint(0, 7, size=10)) #np.random.randint()…一様分布のランダムな整数を返す\n",
    "s"
   ]
  },
  {
   "cell_type": "code",
   "execution_count": 37,
   "metadata": {},
   "outputs": [
    {
     "data": {
      "text/plain": [
       "4    2\n",
       "3    2\n",
       "0    2\n",
       "6    1\n",
       "5    1\n",
       "2    1\n",
       "1    1\n",
       "dtype: int64"
      ]
     },
     "execution_count": 37,
     "metadata": {},
     "output_type": "execute_result"
    }
   ],
   "source": [
    "s.value_counts() #それぞれの出目ごとにでた個数を返す"
   ]
  },
  {
   "cell_type": "markdown",
   "metadata": {},
   "source": [
    "#### 6-4. 文字列メソッド\n",
    "* Seriesオブジェクトは文字列を取り扱うメソッド,strメソッドを持っている"
   ]
  },
  {
   "cell_type": "code",
   "execution_count": 38,
   "metadata": {},
   "outputs": [
    {
     "data": {
      "text/plain": [
       "0       a\n",
       "1       b\n",
       "2       c\n",
       "3    aaba\n",
       "4    baca\n",
       "5     NaN\n",
       "6    caba\n",
       "7     dog\n",
       "8     cat\n",
       "dtype: object"
      ]
     },
     "execution_count": 38,
     "metadata": {},
     "output_type": "execute_result"
    }
   ],
   "source": [
    "s = pd.Series(['A', 'B', 'C', 'Aaba', 'Baca', np.nan, 'CABA', 'dog', 'cat'])\n",
    "s.str.lower()  #小文字に統一するメソッド"
   ]
  },
  {
   "cell_type": "markdown",
   "metadata": {},
   "source": [
    "### 7. マージ"
   ]
  },
  {
   "cell_type": "markdown",
   "metadata": {},
   "source": [
    "#### 7-1. 連結\n",
    "* pandasは、Series,DataFrame,Panelオブジェクトを簡単に結合させる様々な関数を持っている\n",
    "* `Panel`…三次元配列を表すオブジェクト"
   ]
  },
  {
   "cell_type": "code",
   "execution_count": 39,
   "metadata": {},
   "outputs": [
    {
     "data": {
      "text/html": [
       "<div>\n",
       "<style scoped>\n",
       "    .dataframe tbody tr th:only-of-type {\n",
       "        vertical-align: middle;\n",
       "    }\n",
       "\n",
       "    .dataframe tbody tr th {\n",
       "        vertical-align: top;\n",
       "    }\n",
       "\n",
       "    .dataframe thead th {\n",
       "        text-align: right;\n",
       "    }\n",
       "</style>\n",
       "<table border=\"1\" class=\"dataframe\">\n",
       "  <thead>\n",
       "    <tr style=\"text-align: right;\">\n",
       "      <th></th>\n",
       "      <th>0</th>\n",
       "      <th>1</th>\n",
       "      <th>2</th>\n",
       "      <th>3</th>\n",
       "    </tr>\n",
       "  </thead>\n",
       "  <tbody>\n",
       "    <tr>\n",
       "      <th>0</th>\n",
       "      <td>0.890756</td>\n",
       "      <td>0.901530</td>\n",
       "      <td>-0.765555</td>\n",
       "      <td>1.050202</td>\n",
       "    </tr>\n",
       "    <tr>\n",
       "      <th>1</th>\n",
       "      <td>-0.271121</td>\n",
       "      <td>0.593950</td>\n",
       "      <td>1.824453</td>\n",
       "      <td>0.614195</td>\n",
       "    </tr>\n",
       "    <tr>\n",
       "      <th>2</th>\n",
       "      <td>0.952880</td>\n",
       "      <td>1.262962</td>\n",
       "      <td>0.619088</td>\n",
       "      <td>0.786609</td>\n",
       "    </tr>\n",
       "    <tr>\n",
       "      <th>3</th>\n",
       "      <td>-1.242715</td>\n",
       "      <td>-0.259757</td>\n",
       "      <td>-0.441338</td>\n",
       "      <td>0.073672</td>\n",
       "    </tr>\n",
       "    <tr>\n",
       "      <th>4</th>\n",
       "      <td>-1.943991</td>\n",
       "      <td>-0.156803</td>\n",
       "      <td>0.008432</td>\n",
       "      <td>-2.172710</td>\n",
       "    </tr>\n",
       "    <tr>\n",
       "      <th>5</th>\n",
       "      <td>0.941596</td>\n",
       "      <td>1.562745</td>\n",
       "      <td>-0.236899</td>\n",
       "      <td>0.885822</td>\n",
       "    </tr>\n",
       "    <tr>\n",
       "      <th>6</th>\n",
       "      <td>-0.881871</td>\n",
       "      <td>-1.691723</td>\n",
       "      <td>0.720165</td>\n",
       "      <td>0.041064</td>\n",
       "    </tr>\n",
       "    <tr>\n",
       "      <th>7</th>\n",
       "      <td>-2.468225</td>\n",
       "      <td>0.391067</td>\n",
       "      <td>0.829695</td>\n",
       "      <td>-0.100468</td>\n",
       "    </tr>\n",
       "    <tr>\n",
       "      <th>8</th>\n",
       "      <td>0.550700</td>\n",
       "      <td>-1.314055</td>\n",
       "      <td>1.370246</td>\n",
       "      <td>0.488189</td>\n",
       "    </tr>\n",
       "    <tr>\n",
       "      <th>9</th>\n",
       "      <td>-0.124805</td>\n",
       "      <td>0.190150</td>\n",
       "      <td>0.345547</td>\n",
       "      <td>-0.401358</td>\n",
       "    </tr>\n",
       "  </tbody>\n",
       "</table>\n",
       "</div>"
      ],
      "text/plain": [
       "          0         1         2         3\n",
       "0  0.890756  0.901530 -0.765555  1.050202\n",
       "1 -0.271121  0.593950  1.824453  0.614195\n",
       "2  0.952880  1.262962  0.619088  0.786609\n",
       "3 -1.242715 -0.259757 -0.441338  0.073672\n",
       "4 -1.943991 -0.156803  0.008432 -2.172710\n",
       "5  0.941596  1.562745 -0.236899  0.885822\n",
       "6 -0.881871 -1.691723  0.720165  0.041064\n",
       "7 -2.468225  0.391067  0.829695 -0.100468\n",
       "8  0.550700 -1.314055  1.370246  0.488189\n",
       "9 -0.124805  0.190150  0.345547 -0.401358"
      ]
     },
     "execution_count": 39,
     "metadata": {},
     "output_type": "execute_result"
    }
   ],
   "source": [
    "df = pd.DataFrame(np.random.randn(10, 4))  #DataFrameオブジェクトの生成\n",
    "pieces = [df[:3], df[3:7], df[7:]]   #バリューの分割\n",
    "pd.concat(pieces)  #valueの結合"
   ]
  },
  {
   "cell_type": "markdown",
   "metadata": {},
   "source": [
    "#### 7-2.ジョイン\n",
    "* SQLスタイルの結合"
   ]
  },
  {
   "cell_type": "code",
   "execution_count": 40,
   "metadata": {},
   "outputs": [
    {
     "data": {
      "text/html": [
       "<div>\n",
       "<style scoped>\n",
       "    .dataframe tbody tr th:only-of-type {\n",
       "        vertical-align: middle;\n",
       "    }\n",
       "\n",
       "    .dataframe tbody tr th {\n",
       "        vertical-align: top;\n",
       "    }\n",
       "\n",
       "    .dataframe thead th {\n",
       "        text-align: right;\n",
       "    }\n",
       "</style>\n",
       "<table border=\"1\" class=\"dataframe\">\n",
       "  <thead>\n",
       "    <tr style=\"text-align: right;\">\n",
       "      <th></th>\n",
       "      <th>key</th>\n",
       "      <th>lval</th>\n",
       "      <th>rval</th>\n",
       "    </tr>\n",
       "  </thead>\n",
       "  <tbody>\n",
       "    <tr>\n",
       "      <th>0</th>\n",
       "      <td>foo</td>\n",
       "      <td>1</td>\n",
       "      <td>4</td>\n",
       "    </tr>\n",
       "    <tr>\n",
       "      <th>1</th>\n",
       "      <td>foo</td>\n",
       "      <td>1</td>\n",
       "      <td>5</td>\n",
       "    </tr>\n",
       "    <tr>\n",
       "      <th>2</th>\n",
       "      <td>foo</td>\n",
       "      <td>2</td>\n",
       "      <td>4</td>\n",
       "    </tr>\n",
       "    <tr>\n",
       "      <th>3</th>\n",
       "      <td>foo</td>\n",
       "      <td>2</td>\n",
       "      <td>5</td>\n",
       "    </tr>\n",
       "  </tbody>\n",
       "</table>\n",
       "</div>"
      ],
      "text/plain": [
       "   key  lval  rval\n",
       "0  foo     1     4\n",
       "1  foo     1     5\n",
       "2  foo     2     4\n",
       "3  foo     2     5"
      ]
     },
     "execution_count": 40,
     "metadata": {},
     "output_type": "execute_result"
    }
   ],
   "source": [
    "left = pd.DataFrame({'key': ['foo', 'foo'], 'lval': [1, 2]})\n",
    "right = pd.DataFrame({'key': ['foo', 'foo'], 'rval': [4, 5]})\n",
    "pd.merge(left, right, on='key')  #keyを基準にDataFrameオブジェクトを結合させる"
   ]
  },
  {
   "cell_type": "code",
   "execution_count": 41,
   "metadata": {},
   "outputs": [
    {
     "data": {
      "text/html": [
       "<div>\n",
       "<style scoped>\n",
       "    .dataframe tbody tr th:only-of-type {\n",
       "        vertical-align: middle;\n",
       "    }\n",
       "\n",
       "    .dataframe tbody tr th {\n",
       "        vertical-align: top;\n",
       "    }\n",
       "\n",
       "    .dataframe thead th {\n",
       "        text-align: right;\n",
       "    }\n",
       "</style>\n",
       "<table border=\"1\" class=\"dataframe\">\n",
       "  <thead>\n",
       "    <tr style=\"text-align: right;\">\n",
       "      <th></th>\n",
       "      <th>key</th>\n",
       "      <th>lval</th>\n",
       "      <th>rval</th>\n",
       "    </tr>\n",
       "  </thead>\n",
       "  <tbody>\n",
       "    <tr>\n",
       "      <th>0</th>\n",
       "      <td>foo</td>\n",
       "      <td>1</td>\n",
       "      <td>4</td>\n",
       "    </tr>\n",
       "    <tr>\n",
       "      <th>1</th>\n",
       "      <td>bar</td>\n",
       "      <td>2</td>\n",
       "      <td>5</td>\n",
       "    </tr>\n",
       "  </tbody>\n",
       "</table>\n",
       "</div>"
      ],
      "text/plain": [
       "   key  lval  rval\n",
       "0  foo     1     4\n",
       "1  bar     2     5"
      ]
     },
     "execution_count": 41,
     "metadata": {},
     "output_type": "execute_result"
    }
   ],
   "source": [
    "left = pd.DataFrame({'key': ['foo', 'bar'], 'lval': [1, 2]})\n",
    "right = pd.DataFrame({'key': ['foo', 'bar'], 'rval': [4, 5]})\n",
    "pd.merge(left, right, on='key')  #もう1つの例"
   ]
  },
  {
   "cell_type": "markdown",
   "metadata": {},
   "source": [
    "#### 7-3. アペンド(付加)"
   ]
  },
  {
   "cell_type": "code",
   "execution_count": 42,
   "metadata": {},
   "outputs": [
    {
     "data": {
      "text/html": [
       "<div>\n",
       "<style scoped>\n",
       "    .dataframe tbody tr th:only-of-type {\n",
       "        vertical-align: middle;\n",
       "    }\n",
       "\n",
       "    .dataframe tbody tr th {\n",
       "        vertical-align: top;\n",
       "    }\n",
       "\n",
       "    .dataframe thead th {\n",
       "        text-align: right;\n",
       "    }\n",
       "</style>\n",
       "<table border=\"1\" class=\"dataframe\">\n",
       "  <thead>\n",
       "    <tr style=\"text-align: right;\">\n",
       "      <th></th>\n",
       "      <th>A</th>\n",
       "      <th>B</th>\n",
       "      <th>C</th>\n",
       "      <th>D</th>\n",
       "    </tr>\n",
       "  </thead>\n",
       "  <tbody>\n",
       "    <tr>\n",
       "      <th>0</th>\n",
       "      <td>2.715159</td>\n",
       "      <td>0.782455</td>\n",
       "      <td>-0.594675</td>\n",
       "      <td>-0.570256</td>\n",
       "    </tr>\n",
       "    <tr>\n",
       "      <th>1</th>\n",
       "      <td>-0.329114</td>\n",
       "      <td>-0.186522</td>\n",
       "      <td>1.022586</td>\n",
       "      <td>-2.380807</td>\n",
       "    </tr>\n",
       "    <tr>\n",
       "      <th>2</th>\n",
       "      <td>0.954745</td>\n",
       "      <td>-2.141672</td>\n",
       "      <td>-0.022732</td>\n",
       "      <td>-1.165014</td>\n",
       "    </tr>\n",
       "    <tr>\n",
       "      <th>3</th>\n",
       "      <td>0.443555</td>\n",
       "      <td>0.300922</td>\n",
       "      <td>1.675571</td>\n",
       "      <td>0.367578</td>\n",
       "    </tr>\n",
       "    <tr>\n",
       "      <th>4</th>\n",
       "      <td>0.676451</td>\n",
       "      <td>0.410647</td>\n",
       "      <td>0.405250</td>\n",
       "      <td>-2.991596</td>\n",
       "    </tr>\n",
       "    <tr>\n",
       "      <th>5</th>\n",
       "      <td>-0.887430</td>\n",
       "      <td>0.135306</td>\n",
       "      <td>0.260099</td>\n",
       "      <td>0.667514</td>\n",
       "    </tr>\n",
       "    <tr>\n",
       "      <th>6</th>\n",
       "      <td>-0.538035</td>\n",
       "      <td>-0.761003</td>\n",
       "      <td>-0.413540</td>\n",
       "      <td>-0.988319</td>\n",
       "    </tr>\n",
       "    <tr>\n",
       "      <th>7</th>\n",
       "      <td>-0.455442</td>\n",
       "      <td>-0.564329</td>\n",
       "      <td>1.090382</td>\n",
       "      <td>-0.372395</td>\n",
       "    </tr>\n",
       "    <tr>\n",
       "      <th>8</th>\n",
       "      <td>0.443555</td>\n",
       "      <td>0.300922</td>\n",
       "      <td>1.675571</td>\n",
       "      <td>0.367578</td>\n",
       "    </tr>\n",
       "  </tbody>\n",
       "</table>\n",
       "</div>"
      ],
      "text/plain": [
       "          A         B         C         D\n",
       "0  2.715159  0.782455 -0.594675 -0.570256\n",
       "1 -0.329114 -0.186522  1.022586 -2.380807\n",
       "2  0.954745 -2.141672 -0.022732 -1.165014\n",
       "3  0.443555  0.300922  1.675571  0.367578\n",
       "4  0.676451  0.410647  0.405250 -2.991596\n",
       "5 -0.887430  0.135306  0.260099  0.667514\n",
       "6 -0.538035 -0.761003 -0.413540 -0.988319\n",
       "7 -0.455442 -0.564329  1.090382 -0.372395\n",
       "8  0.443555  0.300922  1.675571  0.367578"
      ]
     },
     "execution_count": 42,
     "metadata": {},
     "output_type": "execute_result"
    }
   ],
   "source": [
    "#rowにDataFrameを付加\n",
    "df = pd.DataFrame(np.random.randn(8, 4), columns=['A','B','C','D'])\n",
    "s = df.iloc[3]\n",
    "df.append(s, ignore_index=True)  #df.iloc[3]がインデックス8に付加されている"
   ]
  },
  {
   "cell_type": "markdown",
   "metadata": {},
   "source": [
    "### 8. グルーピング\n",
    "* `groupby`メソッドによって、分割・適用・結合などがグループ単位で行うことができる"
   ]
  },
  {
   "cell_type": "code",
   "execution_count": 43,
   "metadata": {},
   "outputs": [
    {
     "data": {
      "text/html": [
       "<div>\n",
       "<style scoped>\n",
       "    .dataframe tbody tr th:only-of-type {\n",
       "        vertical-align: middle;\n",
       "    }\n",
       "\n",
       "    .dataframe tbody tr th {\n",
       "        vertical-align: top;\n",
       "    }\n",
       "\n",
       "    .dataframe thead th {\n",
       "        text-align: right;\n",
       "    }\n",
       "</style>\n",
       "<table border=\"1\" class=\"dataframe\">\n",
       "  <thead>\n",
       "    <tr style=\"text-align: right;\">\n",
       "      <th></th>\n",
       "      <th>C</th>\n",
       "      <th>D</th>\n",
       "    </tr>\n",
       "    <tr>\n",
       "      <th>A</th>\n",
       "      <th></th>\n",
       "      <th></th>\n",
       "    </tr>\n",
       "  </thead>\n",
       "  <tbody>\n",
       "    <tr>\n",
       "      <th>bar</th>\n",
       "      <td>-1.934583</td>\n",
       "      <td>-0.343288</td>\n",
       "    </tr>\n",
       "    <tr>\n",
       "      <th>foo</th>\n",
       "      <td>0.762228</td>\n",
       "      <td>-1.428246</td>\n",
       "    </tr>\n",
       "  </tbody>\n",
       "</table>\n",
       "</div>"
      ],
      "text/plain": [
       "            C         D\n",
       "A                      \n",
       "bar -1.934583 -0.343288\n",
       "foo  0.762228 -1.428246"
      ]
     },
     "execution_count": 43,
     "metadata": {},
     "output_type": "execute_result"
    }
   ],
   "source": [
    "df = pd.DataFrame({'A' : ['foo', 'bar', 'foo', 'bar', 'foo', 'bar', 'foo', 'foo'],\n",
    "                   'B' : ['one', 'one', 'two', 'three', 'two', 'two', 'one', 'three'],\n",
    "                   'C' : np.random.randn(8),\n",
    "                   'D' : np.random.randn(8)})\n",
    "df.groupby('A').sum()  #Aグループを同一バリューごとにカテゴライズし、各カラムの値を合計する"
   ]
  },
  {
   "cell_type": "code",
   "execution_count": 44,
   "metadata": {},
   "outputs": [
    {
     "data": {
      "text/html": [
       "<div>\n",
       "<style scoped>\n",
       "    .dataframe tbody tr th:only-of-type {\n",
       "        vertical-align: middle;\n",
       "    }\n",
       "\n",
       "    .dataframe tbody tr th {\n",
       "        vertical-align: top;\n",
       "    }\n",
       "\n",
       "    .dataframe thead th {\n",
       "        text-align: right;\n",
       "    }\n",
       "</style>\n",
       "<table border=\"1\" class=\"dataframe\">\n",
       "  <thead>\n",
       "    <tr style=\"text-align: right;\">\n",
       "      <th></th>\n",
       "      <th></th>\n",
       "      <th>C</th>\n",
       "      <th>D</th>\n",
       "    </tr>\n",
       "    <tr>\n",
       "      <th>A</th>\n",
       "      <th>B</th>\n",
       "      <th></th>\n",
       "      <th></th>\n",
       "    </tr>\n",
       "  </thead>\n",
       "  <tbody>\n",
       "    <tr>\n",
       "      <th rowspan=\"3\" valign=\"top\">bar</th>\n",
       "      <th>one</th>\n",
       "      <td>-0.760050</td>\n",
       "      <td>-0.479678</td>\n",
       "    </tr>\n",
       "    <tr>\n",
       "      <th>three</th>\n",
       "      <td>-1.515467</td>\n",
       "      <td>-0.274024</td>\n",
       "    </tr>\n",
       "    <tr>\n",
       "      <th>two</th>\n",
       "      <td>0.340934</td>\n",
       "      <td>0.410415</td>\n",
       "    </tr>\n",
       "    <tr>\n",
       "      <th rowspan=\"3\" valign=\"top\">foo</th>\n",
       "      <th>one</th>\n",
       "      <td>1.455895</td>\n",
       "      <td>-0.354460</td>\n",
       "    </tr>\n",
       "    <tr>\n",
       "      <th>three</th>\n",
       "      <td>0.157338</td>\n",
       "      <td>0.450135</td>\n",
       "    </tr>\n",
       "    <tr>\n",
       "      <th>two</th>\n",
       "      <td>-0.851006</td>\n",
       "      <td>-1.523920</td>\n",
       "    </tr>\n",
       "  </tbody>\n",
       "</table>\n",
       "</div>"
      ],
      "text/plain": [
       "                  C         D\n",
       "A   B                        \n",
       "bar one   -0.760050 -0.479678\n",
       "    three -1.515467 -0.274024\n",
       "    two    0.340934  0.410415\n",
       "foo one    1.455895 -0.354460\n",
       "    three  0.157338  0.450135\n",
       "    two   -0.851006 -1.523920"
      ]
     },
     "execution_count": 44,
     "metadata": {},
     "output_type": "execute_result"
    }
   ],
   "source": [
    "df.groupby(['A','B']).sum()  #グループ化をA->Bで行う"
   ]
  },
  {
   "cell_type": "markdown",
   "metadata": {},
   "source": [
    "### 9. 再整形"
   ]
  },
  {
   "cell_type": "markdown",
   "metadata": {},
   "source": [
    "#### 9-1. スタック"
   ]
  },
  {
   "cell_type": "code",
   "execution_count": 45,
   "metadata": {},
   "outputs": [
    {
     "data": {
      "text/html": [
       "<div>\n",
       "<style scoped>\n",
       "    .dataframe tbody tr th:only-of-type {\n",
       "        vertical-align: middle;\n",
       "    }\n",
       "\n",
       "    .dataframe tbody tr th {\n",
       "        vertical-align: top;\n",
       "    }\n",
       "\n",
       "    .dataframe thead th {\n",
       "        text-align: right;\n",
       "    }\n",
       "</style>\n",
       "<table border=\"1\" class=\"dataframe\">\n",
       "  <thead>\n",
       "    <tr style=\"text-align: right;\">\n",
       "      <th></th>\n",
       "      <th></th>\n",
       "      <th>A</th>\n",
       "      <th>B</th>\n",
       "    </tr>\n",
       "    <tr>\n",
       "      <th>first</th>\n",
       "      <th>second</th>\n",
       "      <th></th>\n",
       "      <th></th>\n",
       "    </tr>\n",
       "  </thead>\n",
       "  <tbody>\n",
       "    <tr>\n",
       "      <th rowspan=\"2\" valign=\"top\">bar</th>\n",
       "      <th>one</th>\n",
       "      <td>0.427586</td>\n",
       "      <td>-1.005260</td>\n",
       "    </tr>\n",
       "    <tr>\n",
       "      <th>two</th>\n",
       "      <td>0.095713</td>\n",
       "      <td>2.812249</td>\n",
       "    </tr>\n",
       "    <tr>\n",
       "      <th rowspan=\"2\" valign=\"top\">baz</th>\n",
       "      <th>one</th>\n",
       "      <td>-0.244172</td>\n",
       "      <td>-1.650703</td>\n",
       "    </tr>\n",
       "    <tr>\n",
       "      <th>two</th>\n",
       "      <td>-0.789093</td>\n",
       "      <td>-0.349003</td>\n",
       "    </tr>\n",
       "  </tbody>\n",
       "</table>\n",
       "</div>"
      ],
      "text/plain": [
       "                     A         B\n",
       "first second                    \n",
       "bar   one     0.427586 -1.005260\n",
       "      two     0.095713  2.812249\n",
       "baz   one    -0.244172 -1.650703\n",
       "      two    -0.789093 -0.349003"
      ]
     },
     "execution_count": 45,
     "metadata": {},
     "output_type": "execute_result"
    }
   ],
   "source": [
    "tuples = list(zip(*[['bar', 'bar', 'baz', 'baz', 'foo', 'foo', 'qux', 'qux'],\n",
    "                    ['one', 'two', 'one', 'two', 'one', 'two', 'one', 'two']]))  #zip(*引数)で引数を展開する -> listでタプルをリストに変換\n",
    "index = pd.MultiIndex.from_tuples(tuples, names=['first', 'second'])  #タプルのリストをインデックスに転換する\n",
    "df = pd.DataFrame(np.random.randn(8, 2), index=index, columns=['A', 'B'])\n",
    "df2 = df[:4]\n",
    "df2"
   ]
  },
  {
   "cell_type": "code",
   "execution_count": 46,
   "metadata": {},
   "outputs": [
    {
     "data": {
      "text/plain": [
       "first  second   \n",
       "bar    one     A    0.427586\n",
       "               B   -1.005260\n",
       "       two     A    0.095713\n",
       "               B    2.812249\n",
       "baz    one     A   -0.244172\n",
       "               B   -1.650703\n",
       "       two     A   -0.789093\n",
       "               B   -0.349003\n",
       "dtype: float64"
      ]
     },
     "execution_count": 46,
     "metadata": {},
     "output_type": "execute_result"
    }
   ],
   "source": [
    "stacked = df2.stack()  #DataFrame、Seriesのカラムをインデックスに入れ、マルチインデックスのような形にする\n",
    "stacked"
   ]
  },
  {
   "cell_type": "code",
   "execution_count": 47,
   "metadata": {},
   "outputs": [
    {
     "data": {
      "text/html": [
       "<div>\n",
       "<style scoped>\n",
       "    .dataframe tbody tr th:only-of-type {\n",
       "        vertical-align: middle;\n",
       "    }\n",
       "\n",
       "    .dataframe tbody tr th {\n",
       "        vertical-align: top;\n",
       "    }\n",
       "\n",
       "    .dataframe thead th {\n",
       "        text-align: right;\n",
       "    }\n",
       "</style>\n",
       "<table border=\"1\" class=\"dataframe\">\n",
       "  <thead>\n",
       "    <tr style=\"text-align: right;\">\n",
       "      <th></th>\n",
       "      <th></th>\n",
       "      <th>A</th>\n",
       "      <th>B</th>\n",
       "    </tr>\n",
       "    <tr>\n",
       "      <th>first</th>\n",
       "      <th>second</th>\n",
       "      <th></th>\n",
       "      <th></th>\n",
       "    </tr>\n",
       "  </thead>\n",
       "  <tbody>\n",
       "    <tr>\n",
       "      <th rowspan=\"2\" valign=\"top\">bar</th>\n",
       "      <th>one</th>\n",
       "      <td>0.427586</td>\n",
       "      <td>-1.005260</td>\n",
       "    </tr>\n",
       "    <tr>\n",
       "      <th>two</th>\n",
       "      <td>0.095713</td>\n",
       "      <td>2.812249</td>\n",
       "    </tr>\n",
       "    <tr>\n",
       "      <th rowspan=\"2\" valign=\"top\">baz</th>\n",
       "      <th>one</th>\n",
       "      <td>-0.244172</td>\n",
       "      <td>-1.650703</td>\n",
       "    </tr>\n",
       "    <tr>\n",
       "      <th>two</th>\n",
       "      <td>-0.789093</td>\n",
       "      <td>-0.349003</td>\n",
       "    </tr>\n",
       "  </tbody>\n",
       "</table>\n",
       "</div>"
      ],
      "text/plain": [
       "                     A         B\n",
       "first second                    \n",
       "bar   one     0.427586 -1.005260\n",
       "      two     0.095713  2.812249\n",
       "baz   one    -0.244172 -1.650703\n",
       "      two    -0.789093 -0.349003"
      ]
     },
     "execution_count": 47,
     "metadata": {},
     "output_type": "execute_result"
    }
   ],
   "source": [
    "stacked.unstack()  #スタックされたDataFrame,Seriesをカラムのある状態に戻す"
   ]
  },
  {
   "cell_type": "code",
   "execution_count": 48,
   "metadata": {},
   "outputs": [
    {
     "data": {
      "text/html": [
       "<div>\n",
       "<style scoped>\n",
       "    .dataframe tbody tr th:only-of-type {\n",
       "        vertical-align: middle;\n",
       "    }\n",
       "\n",
       "    .dataframe tbody tr th {\n",
       "        vertical-align: top;\n",
       "    }\n",
       "\n",
       "    .dataframe thead th {\n",
       "        text-align: right;\n",
       "    }\n",
       "</style>\n",
       "<table border=\"1\" class=\"dataframe\">\n",
       "  <thead>\n",
       "    <tr style=\"text-align: right;\">\n",
       "      <th></th>\n",
       "      <th>second</th>\n",
       "      <th>one</th>\n",
       "      <th>two</th>\n",
       "    </tr>\n",
       "    <tr>\n",
       "      <th>first</th>\n",
       "      <th></th>\n",
       "      <th></th>\n",
       "      <th></th>\n",
       "    </tr>\n",
       "  </thead>\n",
       "  <tbody>\n",
       "    <tr>\n",
       "      <th rowspan=\"2\" valign=\"top\">bar</th>\n",
       "      <th>A</th>\n",
       "      <td>0.427586</td>\n",
       "      <td>0.095713</td>\n",
       "    </tr>\n",
       "    <tr>\n",
       "      <th>B</th>\n",
       "      <td>-1.005260</td>\n",
       "      <td>2.812249</td>\n",
       "    </tr>\n",
       "    <tr>\n",
       "      <th rowspan=\"2\" valign=\"top\">baz</th>\n",
       "      <th>A</th>\n",
       "      <td>-0.244172</td>\n",
       "      <td>-0.789093</td>\n",
       "    </tr>\n",
       "    <tr>\n",
       "      <th>B</th>\n",
       "      <td>-1.650703</td>\n",
       "      <td>-0.349003</td>\n",
       "    </tr>\n",
       "  </tbody>\n",
       "</table>\n",
       "</div>"
      ],
      "text/plain": [
       "second        one       two\n",
       "first                      \n",
       "bar   A  0.427586  0.095713\n",
       "      B -1.005260  2.812249\n",
       "baz   A -0.244172 -0.789093\n",
       "      B -1.650703 -0.349003"
      ]
     },
     "execution_count": 48,
     "metadata": {},
     "output_type": "execute_result"
    }
   ],
   "source": [
    "stacked.unstack(1)  #引数は、0=\"first\",1=\"second\",2=\"A\"or\"B\""
   ]
  },
  {
   "cell_type": "markdown",
   "metadata": {},
   "source": [
    "#### 9-2. ピボットテーブル"
   ]
  },
  {
   "cell_type": "code",
   "execution_count": 49,
   "metadata": {},
   "outputs": [
    {
     "data": {
      "text/html": [
       "<div>\n",
       "<style scoped>\n",
       "    .dataframe tbody tr th:only-of-type {\n",
       "        vertical-align: middle;\n",
       "    }\n",
       "\n",
       "    .dataframe tbody tr th {\n",
       "        vertical-align: top;\n",
       "    }\n",
       "\n",
       "    .dataframe thead th {\n",
       "        text-align: right;\n",
       "    }\n",
       "</style>\n",
       "<table border=\"1\" class=\"dataframe\">\n",
       "  <thead>\n",
       "    <tr style=\"text-align: right;\">\n",
       "      <th></th>\n",
       "      <th>C</th>\n",
       "      <th>bar</th>\n",
       "      <th>foo</th>\n",
       "    </tr>\n",
       "    <tr>\n",
       "      <th>A</th>\n",
       "      <th>B</th>\n",
       "      <th></th>\n",
       "      <th></th>\n",
       "    </tr>\n",
       "  </thead>\n",
       "  <tbody>\n",
       "    <tr>\n",
       "      <th rowspan=\"3\" valign=\"top\">one</th>\n",
       "      <th>A</th>\n",
       "      <td>-0.334303</td>\n",
       "      <td>-0.137560</td>\n",
       "    </tr>\n",
       "    <tr>\n",
       "      <th>B</th>\n",
       "      <td>1.085568</td>\n",
       "      <td>-0.792320</td>\n",
       "    </tr>\n",
       "    <tr>\n",
       "      <th>C</th>\n",
       "      <td>0.996000</td>\n",
       "      <td>0.086397</td>\n",
       "    </tr>\n",
       "    <tr>\n",
       "      <th rowspan=\"3\" valign=\"top\">three</th>\n",
       "      <th>A</th>\n",
       "      <td>0.621799</td>\n",
       "      <td>NaN</td>\n",
       "    </tr>\n",
       "    <tr>\n",
       "      <th>B</th>\n",
       "      <td>NaN</td>\n",
       "      <td>-0.569194</td>\n",
       "    </tr>\n",
       "    <tr>\n",
       "      <th>C</th>\n",
       "      <td>0.217463</td>\n",
       "      <td>NaN</td>\n",
       "    </tr>\n",
       "    <tr>\n",
       "      <th rowspan=\"3\" valign=\"top\">two</th>\n",
       "      <th>A</th>\n",
       "      <td>NaN</td>\n",
       "      <td>-0.104969</td>\n",
       "    </tr>\n",
       "    <tr>\n",
       "      <th>B</th>\n",
       "      <td>-0.254721</td>\n",
       "      <td>NaN</td>\n",
       "    </tr>\n",
       "    <tr>\n",
       "      <th>C</th>\n",
       "      <td>NaN</td>\n",
       "      <td>1.059749</td>\n",
       "    </tr>\n",
       "  </tbody>\n",
       "</table>\n",
       "</div>"
      ],
      "text/plain": [
       "C             bar       foo\n",
       "A     B                    \n",
       "one   A -0.334303 -0.137560\n",
       "      B  1.085568 -0.792320\n",
       "      C  0.996000  0.086397\n",
       "three A  0.621799       NaN\n",
       "      B       NaN -0.569194\n",
       "      C  0.217463       NaN\n",
       "two   A       NaN -0.104969\n",
       "      B -0.254721       NaN\n",
       "      C       NaN  1.059749"
      ]
     },
     "execution_count": 49,
     "metadata": {},
     "output_type": "execute_result"
    }
   ],
   "source": [
    "df = pd.DataFrame({'A' : ['one', 'one', 'two', 'three'] * 3,\n",
    "                   'B' : ['A', 'B', 'C'] * 4,\n",
    "                   'C' : ['foo', 'foo', 'foo', 'bar', 'bar', 'bar'] * 2,\n",
    "                   'D' : np.random.randn(12),\n",
    "                   'E' : np.random.randn(12)})\n",
    "pd.pivot_table(df, values='D', index=['A', 'B'], columns=['C'])\n",
    "#スプレッドシートスタイルのピボットテーブル(データの要約)を返す。(引数の意味:DataFrameであるdfのバリューDのみが対象、A・Bがインデックス、Cがカラム)"
   ]
  },
  {
   "cell_type": "markdown",
   "metadata": {},
   "source": [
    "### 10. Time Series\n",
    "* pandasは頻度変換を行う上で強力なメソッドを有している"
   ]
  },
  {
   "cell_type": "code",
   "execution_count": 50,
   "metadata": {},
   "outputs": [
    {
     "data": {
      "text/plain": [
       "2012-01-01    25017\n",
       "Freq: 5T, dtype: int64"
      ]
     },
     "execution_count": 50,
     "metadata": {},
     "output_type": "execute_result"
    }
   ],
   "source": [
    "rng = pd.date_range('1/1/2012', periods=100, freq='S')\n",
    "ts = pd.Series(np.random.randint(0, 500, len(rng)), index=rng)\n",
    "ts.resample('5Min').sum() #resample()…引数に合致する時間インデックスに会う情報を収集"
   ]
  },
  {
   "cell_type": "code",
   "execution_count": 51,
   "metadata": {},
   "outputs": [
    {
     "data": {
      "text/plain": [
       "2012-03-06 00:00:00+00:00   -0.311405\n",
       "2012-03-07 00:00:00+00:00   -0.399318\n",
       "2012-03-08 00:00:00+00:00   -1.052087\n",
       "2012-03-09 00:00:00+00:00    1.913156\n",
       "2012-03-10 00:00:00+00:00   -0.516693\n",
       "Freq: D, dtype: float64"
      ]
     },
     "execution_count": 51,
     "metadata": {},
     "output_type": "execute_result"
    }
   ],
   "source": [
    "rng = pd.date_range('3/6/2012 00:00', periods=5, freq='D')\n",
    "ts = pd.Series(np.random.randn(len(rng)), rng)\n",
    "ts_utc = ts.tz_localize('UTC')  #タイムゾーンを持ったawareな時間オブジェクトに変更\n",
    "ts_utc"
   ]
  },
  {
   "cell_type": "code",
   "execution_count": 52,
   "metadata": {},
   "outputs": [
    {
     "data": {
      "text/plain": [
       "2012-03-05 19:00:00-05:00   -0.311405\n",
       "2012-03-06 19:00:00-05:00   -0.399318\n",
       "2012-03-07 19:00:00-05:00   -1.052087\n",
       "2012-03-08 19:00:00-05:00    1.913156\n",
       "2012-03-09 19:00:00-05:00   -0.516693\n",
       "Freq: D, dtype: float64"
      ]
     },
     "execution_count": 52,
     "metadata": {},
     "output_type": "execute_result"
    }
   ],
   "source": [
    "ts_utc.tz_convert('US/Eastern') #引数の地域のタイムゾーンに変更"
   ]
  },
  {
   "cell_type": "code",
   "execution_count": 53,
   "metadata": {},
   "outputs": [
    {
     "data": {
      "text/plain": [
       "2012-01-01    0.628367\n",
       "2012-02-01   -0.418007\n",
       "2012-03-01    0.302071\n",
       "2012-04-01   -0.099849\n",
       "2012-05-01    0.575034\n",
       "Freq: MS, dtype: float64"
      ]
     },
     "execution_count": 53,
     "metadata": {},
     "output_type": "execute_result"
    }
   ],
   "source": [
    "#タイムインデックスの推移:月末基準(rng)->付きのみの表示(ps)->月初基準\n",
    "rng = pd.date_range('1/1/2012', periods=5, freq='M')\n",
    "ts = pd.Series(np.random.randn(len(rng)), index=rng)\n",
    "ps = ts.to_period()  #Datatimeインデックスからperiodタイムインデックスに変更\n",
    "ps.to_timestamp()   #月初日基準のdatetimeインデックスに変更"
   ]
  },
  {
   "cell_type": "code",
   "execution_count": 54,
   "metadata": {},
   "outputs": [
    {
     "data": {
      "text/plain": [
       "1990-03-01 09:00    0.705433\n",
       "1990-06-01 09:00   -0.910949\n",
       "1990-09-01 09:00   -0.280971\n",
       "1990-12-01 09:00    1.644449\n",
       "1991-03-01 09:00    2.460565\n",
       "Freq: H, dtype: float64"
      ]
     },
     "execution_count": 54,
     "metadata": {},
     "output_type": "execute_result"
    }
   ],
   "source": [
    "#タイムインデックスの推移:クオーター(prng)->クオーターの最初の日の9時\n",
    "prng = pd.period_range('1990Q1', '2000Q4', freq='Q-NOV')\n",
    "ts = pd.Series(np.random.randn(len(prng)), prng)\n",
    "ts.index = (prng.asfreq('M', 'e') + 1).asfreq('H', 's') + 9  #PeriodIndexを特定の頻度期間に変更\n",
    "ts.head()"
   ]
  },
  {
   "cell_type": "markdown",
   "metadata": {},
   "source": [
    "### 11. カテゴリー化"
   ]
  },
  {
   "cell_type": "code",
   "execution_count": 55,
   "metadata": {},
   "outputs": [
    {
     "data": {
      "text/plain": [
       "0    a\n",
       "1    b\n",
       "2    b\n",
       "3    a\n",
       "4    a\n",
       "5    e\n",
       "Name: grade, dtype: category\n",
       "Categories (3, object): [a, b, e]"
      ]
     },
     "execution_count": 55,
     "metadata": {},
     "output_type": "execute_result"
    }
   ],
   "source": [
    "df = pd.DataFrame({\"id\":[1,2,3,4,5,6], \"raw_grade\":['a', 'b', 'b', 'a', 'a', 'e']})\n",
    "df[\"grade\"] = df[\"raw_grade\"].astype(\"category\")  #\"raw_grade\"のデータを\"category\"型に変換\n",
    "df[\"grade\"]"
   ]
  },
  {
   "cell_type": "code",
   "execution_count": 56,
   "metadata": {},
   "outputs": [
    {
     "data": {
      "text/plain": [
       "0    very good\n",
       "1         good\n",
       "2         good\n",
       "3    very good\n",
       "4    very good\n",
       "5     very bad\n",
       "Name: grade, dtype: category\n",
       "Categories (3, object): [very good, good, very bad]"
      ]
     },
     "execution_count": 56,
     "metadata": {},
     "output_type": "execute_result"
    }
   ],
   "source": [
    "df[\"grade\"].cat.categories = [\"very good\", \"good\", \"very bad\"]  #新しいカテゴリーを割り当て[a,b,c]に相当\n",
    "df[\"grade\"]"
   ]
  },
  {
   "cell_type": "code",
   "execution_count": 57,
   "metadata": {},
   "outputs": [
    {
     "data": {
      "text/plain": [
       "0    very good\n",
       "1         good\n",
       "2         good\n",
       "3    very good\n",
       "4    very good\n",
       "5     very bad\n",
       "Name: grade, dtype: category\n",
       "Categories (5, object): [very bad, bad, medium, good, very good]"
      ]
     },
     "execution_count": 57,
     "metadata": {},
     "output_type": "execute_result"
    }
   ],
   "source": [
    "df[\"grade\"] = df[\"grade\"].cat.set_categories([\"very bad\", \"bad\", \"medium\", \"good\", \"very good\"])  #新しいカテゴリーの割り当て[a,b,c]に相当\n",
    "df[\"grade\"]"
   ]
  },
  {
   "cell_type": "code",
   "execution_count": 58,
   "metadata": {},
   "outputs": [
    {
     "data": {
      "text/html": [
       "<div>\n",
       "<style scoped>\n",
       "    .dataframe tbody tr th:only-of-type {\n",
       "        vertical-align: middle;\n",
       "    }\n",
       "\n",
       "    .dataframe tbody tr th {\n",
       "        vertical-align: top;\n",
       "    }\n",
       "\n",
       "    .dataframe thead th {\n",
       "        text-align: right;\n",
       "    }\n",
       "</style>\n",
       "<table border=\"1\" class=\"dataframe\">\n",
       "  <thead>\n",
       "    <tr style=\"text-align: right;\">\n",
       "      <th></th>\n",
       "      <th>id</th>\n",
       "      <th>raw_grade</th>\n",
       "      <th>grade</th>\n",
       "    </tr>\n",
       "  </thead>\n",
       "  <tbody>\n",
       "    <tr>\n",
       "      <th>5</th>\n",
       "      <td>6</td>\n",
       "      <td>e</td>\n",
       "      <td>very bad</td>\n",
       "    </tr>\n",
       "    <tr>\n",
       "      <th>1</th>\n",
       "      <td>2</td>\n",
       "      <td>b</td>\n",
       "      <td>good</td>\n",
       "    </tr>\n",
       "    <tr>\n",
       "      <th>2</th>\n",
       "      <td>3</td>\n",
       "      <td>b</td>\n",
       "      <td>good</td>\n",
       "    </tr>\n",
       "    <tr>\n",
       "      <th>0</th>\n",
       "      <td>1</td>\n",
       "      <td>a</td>\n",
       "      <td>very good</td>\n",
       "    </tr>\n",
       "    <tr>\n",
       "      <th>3</th>\n",
       "      <td>4</td>\n",
       "      <td>a</td>\n",
       "      <td>very good</td>\n",
       "    </tr>\n",
       "    <tr>\n",
       "      <th>4</th>\n",
       "      <td>5</td>\n",
       "      <td>a</td>\n",
       "      <td>very good</td>\n",
       "    </tr>\n",
       "  </tbody>\n",
       "</table>\n",
       "</div>"
      ],
      "text/plain": [
       "   id raw_grade      grade\n",
       "5   6         e   very bad\n",
       "1   2         b       good\n",
       "2   3         b       good\n",
       "0   1         a  very good\n",
       "3   4         a  very good\n",
       "4   5         a  very good"
      ]
     },
     "execution_count": 58,
     "metadata": {},
     "output_type": "execute_result"
    }
   ],
   "source": [
    "df.sort_values(by=\"grade\")  #gradeでのソート"
   ]
  },
  {
   "cell_type": "code",
   "execution_count": 59,
   "metadata": {},
   "outputs": [
    {
     "data": {
      "text/plain": [
       "grade\n",
       "very bad     1\n",
       "bad          0\n",
       "medium       0\n",
       "good         2\n",
       "very good    3\n",
       "dtype: int64"
      ]
     },
     "execution_count": 59,
     "metadata": {},
     "output_type": "execute_result"
    }
   ],
   "source": [
    "df.groupby(\"grade\").size()  #gradeカテゴリーをサイズを出す"
   ]
  },
  {
   "cell_type": "markdown",
   "metadata": {},
   "source": [
    "### 12. プロット"
   ]
  },
  {
   "cell_type": "code",
   "execution_count": 60,
   "metadata": {},
   "outputs": [
    {
     "data": {
      "text/plain": [
       "<matplotlib.axes._subplots.AxesSubplot at 0x10b9d8240>"
      ]
     },
     "execution_count": 60,
     "metadata": {},
     "output_type": "execute_result"
    },
    {
     "data": {
      "image/png": "[encoded data removed]",
      "text/plain": [
       "<Figure size 432x288 with 1 Axes>"
      ]
     },
     "metadata": {},
     "output_type": "display_data"
    }
   ],
   "source": [
    "ts = pd.Series(np.random.randn(1000), index=pd.date_range('1/1/2000', periods=1000))\n",
    "ts = ts.cumsum()\n",
    "ts.plot()  #matplotlibを使ってグラフをプロット"
   ]
  },
  {
   "cell_type": "code",
   "execution_count": 61,
   "metadata": {},
   "outputs": [
    {
     "data": {
      "text/plain": [
       "<matplotlib.legend.Legend at 0x10bae2e10>"
      ]
     },
     "execution_count": 61,
     "metadata": {},
     "output_type": "execute_result"
    },
    {
     "data": {
      "text/plain": [
       "<Figure size 432x288 with 0 Axes>"
      ]
     },
     "metadata": {},
     "output_type": "display_data"
    },
    {
     "data": {
      "image/png": "[encoded data removed]",
      "text/plain": [
       "<Figure size 432x288 with 1 Axes>"
      ]
     },
     "metadata": {},
     "output_type": "display_data"
    }
   ],
   "source": [
    "df = pd.DataFrame(np.random.randn(1000, 4), index=ts.index, columns=['A', 'B', 'C', 'D'])\n",
    "df = df.cumsum()\n",
    "plt.figure(); df.plot(); plt.legend(loc='best')  #セミコロンは1行に複数の文を書く場合の記法(非推奨)\n",
    "#plt.figure()…Figureオブジェクトの生成\n",
    "#plt.legend()…図の中で利用する凡例(左下のもの)を表示するもの"
   ]
  },
  {
   "cell_type": "markdown",
   "metadata": {},
   "source": [
    "### 13.他ファイルからのデータの取得"
   ]
  },
  {
   "cell_type": "markdown",
   "metadata": {},
   "source": [
    "#### 13-1. CSV"
   ]
  },
  {
   "cell_type": "code",
   "execution_count": 62,
   "metadata": {},
   "outputs": [
    {
     "data": {
      "text/html": [
       "<div>\n",
       "<style scoped>\n",
       "    .dataframe tbody tr th:only-of-type {\n",
       "        vertical-align: middle;\n",
       "    }\n",
       "\n",
       "    .dataframe tbody tr th {\n",
       "        vertical-align: top;\n",
       "    }\n",
       "\n",
       "    .dataframe thead th {\n",
       "        text-align: right;\n",
       "    }\n",
       "</style>\n",
       "<table border=\"1\" class=\"dataframe\">\n",
       "  <thead>\n",
       "    <tr style=\"text-align: right;\">\n",
       "      <th></th>\n",
       "      <th>Unnamed: 0</th>\n",
       "      <th>A</th>\n",
       "      <th>B</th>\n",
       "      <th>C</th>\n",
       "      <th>D</th>\n",
       "    </tr>\n",
       "  </thead>\n",
       "  <tbody>\n",
       "    <tr>\n",
       "      <th>0</th>\n",
       "      <td>2000-01-01</td>\n",
       "      <td>0.587075</td>\n",
       "      <td>1.346920</td>\n",
       "      <td>0.725701</td>\n",
       "      <td>-0.889980</td>\n",
       "    </tr>\n",
       "    <tr>\n",
       "      <th>1</th>\n",
       "      <td>2000-01-02</td>\n",
       "      <td>0.025762</td>\n",
       "      <td>0.264161</td>\n",
       "      <td>0.203389</td>\n",
       "      <td>-0.904734</td>\n",
       "    </tr>\n",
       "    <tr>\n",
       "      <th>2</th>\n",
       "      <td>2000-01-03</td>\n",
       "      <td>-1.011816</td>\n",
       "      <td>-1.755280</td>\n",
       "      <td>1.620847</td>\n",
       "      <td>-0.591833</td>\n",
       "    </tr>\n",
       "    <tr>\n",
       "      <th>3</th>\n",
       "      <td>2000-01-04</td>\n",
       "      <td>-2.279414</td>\n",
       "      <td>-1.192146</td>\n",
       "      <td>0.935685</td>\n",
       "      <td>0.030528</td>\n",
       "    </tr>\n",
       "    <tr>\n",
       "      <th>4</th>\n",
       "      <td>2000-01-05</td>\n",
       "      <td>-3.293899</td>\n",
       "      <td>-1.178664</td>\n",
       "      <td>0.370845</td>\n",
       "      <td>-1.315633</td>\n",
       "    </tr>\n",
       "    <tr>\n",
       "      <th>5</th>\n",
       "      <td>2000-01-06</td>\n",
       "      <td>-2.667877</td>\n",
       "      <td>-1.517468</td>\n",
       "      <td>-0.327099</td>\n",
       "      <td>-0.459230</td>\n",
       "    </tr>\n",
       "    <tr>\n",
       "      <th>6</th>\n",
       "      <td>2000-01-07</td>\n",
       "      <td>-2.657866</td>\n",
       "      <td>-0.855833</td>\n",
       "      <td>-0.262645</td>\n",
       "      <td>-0.624239</td>\n",
       "    </tr>\n",
       "    <tr>\n",
       "      <th>7</th>\n",
       "      <td>2000-01-08</td>\n",
       "      <td>-2.991903</td>\n",
       "      <td>0.185000</td>\n",
       "      <td>-0.755474</td>\n",
       "      <td>-1.767696</td>\n",
       "    </tr>\n",
       "    <tr>\n",
       "      <th>8</th>\n",
       "      <td>2000-01-09</td>\n",
       "      <td>-4.271579</td>\n",
       "      <td>1.832426</td>\n",
       "      <td>0.388105</td>\n",
       "      <td>-0.837633</td>\n",
       "    </tr>\n",
       "    <tr>\n",
       "      <th>9</th>\n",
       "      <td>2000-01-10</td>\n",
       "      <td>-4.680879</td>\n",
       "      <td>2.012922</td>\n",
       "      <td>-1.309038</td>\n",
       "      <td>-1.406791</td>\n",
       "    </tr>\n",
       "    <tr>\n",
       "      <th>10</th>\n",
       "      <td>2000-01-11</td>\n",
       "      <td>-3.220809</td>\n",
       "      <td>3.074326</td>\n",
       "      <td>-1.082793</td>\n",
       "      <td>-2.476081</td>\n",
       "    </tr>\n",
       "    <tr>\n",
       "      <th>11</th>\n",
       "      <td>2000-01-12</td>\n",
       "      <td>-2.057530</td>\n",
       "      <td>2.869010</td>\n",
       "      <td>-1.175955</td>\n",
       "      <td>-2.672802</td>\n",
       "    </tr>\n",
       "    <tr>\n",
       "      <th>12</th>\n",
       "      <td>2000-01-13</td>\n",
       "      <td>-2.971381</td>\n",
       "      <td>3.708925</td>\n",
       "      <td>-1.741834</td>\n",
       "      <td>-2.142366</td>\n",
       "    </tr>\n",
       "    <tr>\n",
       "      <th>13</th>\n",
       "      <td>2000-01-14</td>\n",
       "      <td>-2.905740</td>\n",
       "      <td>3.073225</td>\n",
       "      <td>-2.392999</td>\n",
       "      <td>-1.062584</td>\n",
       "    </tr>\n",
       "    <tr>\n",
       "      <th>14</th>\n",
       "      <td>2000-01-15</td>\n",
       "      <td>-2.839697</td>\n",
       "      <td>4.631077</td>\n",
       "      <td>-0.434300</td>\n",
       "      <td>-0.175833</td>\n",
       "    </tr>\n",
       "    <tr>\n",
       "      <th>15</th>\n",
       "      <td>2000-01-16</td>\n",
       "      <td>-3.787281</td>\n",
       "      <td>4.056998</td>\n",
       "      <td>0.003750</td>\n",
       "      <td>-0.780598</td>\n",
       "    </tr>\n",
       "    <tr>\n",
       "      <th>16</th>\n",
       "      <td>2000-01-17</td>\n",
       "      <td>-4.552473</td>\n",
       "      <td>4.260489</td>\n",
       "      <td>-0.696273</td>\n",
       "      <td>-0.859291</td>\n",
       "    </tr>\n",
       "    <tr>\n",
       "      <th>17</th>\n",
       "      <td>2000-01-18</td>\n",
       "      <td>-3.423981</td>\n",
       "      <td>4.101471</td>\n",
       "      <td>-0.661731</td>\n",
       "      <td>-0.998168</td>\n",
       "    </tr>\n",
       "    <tr>\n",
       "      <th>18</th>\n",
       "      <td>2000-01-19</td>\n",
       "      <td>-4.454692</td>\n",
       "      <td>4.549610</td>\n",
       "      <td>-0.710930</td>\n",
       "      <td>-2.162805</td>\n",
       "    </tr>\n",
       "    <tr>\n",
       "      <th>19</th>\n",
       "      <td>2000-01-20</td>\n",
       "      <td>-5.360626</td>\n",
       "      <td>5.557496</td>\n",
       "      <td>0.081514</td>\n",
       "      <td>-0.710361</td>\n",
       "    </tr>\n",
       "    <tr>\n",
       "      <th>20</th>\n",
       "      <td>2000-01-21</td>\n",
       "      <td>-4.881002</td>\n",
       "      <td>4.379477</td>\n",
       "      <td>-2.518766</td>\n",
       "      <td>-1.831202</td>\n",
       "    </tr>\n",
       "    <tr>\n",
       "      <th>21</th>\n",
       "      <td>2000-01-22</td>\n",
       "      <td>-6.008761</td>\n",
       "      <td>4.504824</td>\n",
       "      <td>-4.361471</td>\n",
       "      <td>-1.673656</td>\n",
       "    </tr>\n",
       "    <tr>\n",
       "      <th>22</th>\n",
       "      <td>2000-01-23</td>\n",
       "      <td>-4.060988</td>\n",
       "      <td>3.024626</td>\n",
       "      <td>-3.193927</td>\n",
       "      <td>-2.608832</td>\n",
       "    </tr>\n",
       "    <tr>\n",
       "      <th>23</th>\n",
       "      <td>2000-01-24</td>\n",
       "      <td>-4.486278</td>\n",
       "      <td>2.795891</td>\n",
       "      <td>-2.299079</td>\n",
       "      <td>-1.263024</td>\n",
       "    </tr>\n",
       "    <tr>\n",
       "      <th>24</th>\n",
       "      <td>2000-01-25</td>\n",
       "      <td>-5.837873</td>\n",
       "      <td>2.196716</td>\n",
       "      <td>-3.998890</td>\n",
       "      <td>-2.432622</td>\n",
       "    </tr>\n",
       "    <tr>\n",
       "      <th>25</th>\n",
       "      <td>2000-01-26</td>\n",
       "      <td>-4.926502</td>\n",
       "      <td>0.797134</td>\n",
       "      <td>-4.760292</td>\n",
       "      <td>-1.574189</td>\n",
       "    </tr>\n",
       "    <tr>\n",
       "      <th>26</th>\n",
       "      <td>2000-01-27</td>\n",
       "      <td>-7.017181</td>\n",
       "      <td>0.786709</td>\n",
       "      <td>-5.407436</td>\n",
       "      <td>-2.075564</td>\n",
       "    </tr>\n",
       "    <tr>\n",
       "      <th>27</th>\n",
       "      <td>2000-01-28</td>\n",
       "      <td>-8.478877</td>\n",
       "      <td>1.214936</td>\n",
       "      <td>-4.686588</td>\n",
       "      <td>-2.465789</td>\n",
       "    </tr>\n",
       "    <tr>\n",
       "      <th>28</th>\n",
       "      <td>2000-01-29</td>\n",
       "      <td>-7.406982</td>\n",
       "      <td>1.978515</td>\n",
       "      <td>-5.610218</td>\n",
       "      <td>-3.724130</td>\n",
       "    </tr>\n",
       "    <tr>\n",
       "      <th>29</th>\n",
       "      <td>2000-01-30</td>\n",
       "      <td>-9.749800</td>\n",
       "      <td>2.127457</td>\n",
       "      <td>-3.862790</td>\n",
       "      <td>-2.314640</td>\n",
       "    </tr>\n",
       "    <tr>\n",
       "      <th>...</th>\n",
       "      <td>...</td>\n",
       "      <td>...</td>\n",
       "      <td>...</td>\n",
       "      <td>...</td>\n",
       "      <td>...</td>\n",
       "    </tr>\n",
       "    <tr>\n",
       "      <th>970</th>\n",
       "      <td>2002-08-28</td>\n",
       "      <td>-30.914663</td>\n",
       "      <td>2.510741</td>\n",
       "      <td>-0.705434</td>\n",
       "      <td>4.299214</td>\n",
       "    </tr>\n",
       "    <tr>\n",
       "      <th>971</th>\n",
       "      <td>2002-08-29</td>\n",
       "      <td>-30.377572</td>\n",
       "      <td>1.673857</td>\n",
       "      <td>-1.394623</td>\n",
       "      <td>5.346136</td>\n",
       "    </tr>\n",
       "    <tr>\n",
       "      <th>972</th>\n",
       "      <td>2002-08-30</td>\n",
       "      <td>-32.266378</td>\n",
       "      <td>1.589142</td>\n",
       "      <td>-1.357684</td>\n",
       "      <td>4.721623</td>\n",
       "    </tr>\n",
       "    <tr>\n",
       "      <th>973</th>\n",
       "      <td>2002-08-31</td>\n",
       "      <td>-31.220246</td>\n",
       "      <td>1.771841</td>\n",
       "      <td>-1.049918</td>\n",
       "      <td>5.641977</td>\n",
       "    </tr>\n",
       "    <tr>\n",
       "      <th>974</th>\n",
       "      <td>2002-09-01</td>\n",
       "      <td>-30.513742</td>\n",
       "      <td>3.125983</td>\n",
       "      <td>-2.988989</td>\n",
       "      <td>6.592502</td>\n",
       "    </tr>\n",
       "    <tr>\n",
       "      <th>975</th>\n",
       "      <td>2002-09-02</td>\n",
       "      <td>-31.350869</td>\n",
       "      <td>2.765696</td>\n",
       "      <td>-2.462200</td>\n",
       "      <td>6.746114</td>\n",
       "    </tr>\n",
       "    <tr>\n",
       "      <th>976</th>\n",
       "      <td>2002-09-03</td>\n",
       "      <td>-31.417955</td>\n",
       "      <td>1.572676</td>\n",
       "      <td>-3.504812</td>\n",
       "      <td>7.300951</td>\n",
       "    </tr>\n",
       "    <tr>\n",
       "      <th>977</th>\n",
       "      <td>2002-09-04</td>\n",
       "      <td>-31.907264</td>\n",
       "      <td>2.202415</td>\n",
       "      <td>-4.148042</td>\n",
       "      <td>8.100003</td>\n",
       "    </tr>\n",
       "    <tr>\n",
       "      <th>978</th>\n",
       "      <td>2002-09-05</td>\n",
       "      <td>-32.491009</td>\n",
       "      <td>4.147027</td>\n",
       "      <td>-0.991046</td>\n",
       "      <td>7.924532</td>\n",
       "    </tr>\n",
       "    <tr>\n",
       "      <th>979</th>\n",
       "      <td>2002-09-06</td>\n",
       "      <td>-32.074043</td>\n",
       "      <td>5.266095</td>\n",
       "      <td>0.682224</td>\n",
       "      <td>8.336723</td>\n",
       "    </tr>\n",
       "    <tr>\n",
       "      <th>980</th>\n",
       "      <td>2002-09-07</td>\n",
       "      <td>-31.729164</td>\n",
       "      <td>4.018637</td>\n",
       "      <td>1.620177</td>\n",
       "      <td>9.992412</td>\n",
       "    </tr>\n",
       "    <tr>\n",
       "      <th>981</th>\n",
       "      <td>2002-09-08</td>\n",
       "      <td>-31.399406</td>\n",
       "      <td>3.853473</td>\n",
       "      <td>-0.639558</td>\n",
       "      <td>9.921083</td>\n",
       "    </tr>\n",
       "    <tr>\n",
       "      <th>982</th>\n",
       "      <td>2002-09-09</td>\n",
       "      <td>-31.735699</td>\n",
       "      <td>3.133299</td>\n",
       "      <td>1.173382</td>\n",
       "      <td>11.772314</td>\n",
       "    </tr>\n",
       "    <tr>\n",
       "      <th>983</th>\n",
       "      <td>2002-09-10</td>\n",
       "      <td>-31.766785</td>\n",
       "      <td>4.701394</td>\n",
       "      <td>2.375483</td>\n",
       "      <td>11.388903</td>\n",
       "    </tr>\n",
       "    <tr>\n",
       "      <th>984</th>\n",
       "      <td>2002-09-11</td>\n",
       "      <td>-32.837740</td>\n",
       "      <td>4.268852</td>\n",
       "      <td>0.819700</td>\n",
       "      <td>11.461822</td>\n",
       "    </tr>\n",
       "    <tr>\n",
       "      <th>985</th>\n",
       "      <td>2002-09-12</td>\n",
       "      <td>-32.250601</td>\n",
       "      <td>3.376540</td>\n",
       "      <td>-0.826952</td>\n",
       "      <td>10.103803</td>\n",
       "    </tr>\n",
       "    <tr>\n",
       "      <th>986</th>\n",
       "      <td>2002-09-13</td>\n",
       "      <td>-33.026937</td>\n",
       "      <td>3.847723</td>\n",
       "      <td>-2.004690</td>\n",
       "      <td>8.614268</td>\n",
       "    </tr>\n",
       "    <tr>\n",
       "      <th>987</th>\n",
       "      <td>2002-09-14</td>\n",
       "      <td>-31.124012</td>\n",
       "      <td>4.093620</td>\n",
       "      <td>-0.830173</td>\n",
       "      <td>9.052371</td>\n",
       "    </tr>\n",
       "    <tr>\n",
       "      <th>988</th>\n",
       "      <td>2002-09-15</td>\n",
       "      <td>-31.362849</td>\n",
       "      <td>5.393078</td>\n",
       "      <td>-1.668539</td>\n",
       "      <td>10.370508</td>\n",
       "    </tr>\n",
       "    <tr>\n",
       "      <th>989</th>\n",
       "      <td>2002-09-16</td>\n",
       "      <td>-31.381904</td>\n",
       "      <td>5.833111</td>\n",
       "      <td>-0.777204</td>\n",
       "      <td>10.895998</td>\n",
       "    </tr>\n",
       "    <tr>\n",
       "      <th>990</th>\n",
       "      <td>2002-09-17</td>\n",
       "      <td>-31.871240</td>\n",
       "      <td>4.862709</td>\n",
       "      <td>-1.525356</td>\n",
       "      <td>12.177516</td>\n",
       "    </tr>\n",
       "    <tr>\n",
       "      <th>991</th>\n",
       "      <td>2002-09-18</td>\n",
       "      <td>-30.436182</td>\n",
       "      <td>4.553784</td>\n",
       "      <td>-0.645729</td>\n",
       "      <td>11.602164</td>\n",
       "    </tr>\n",
       "    <tr>\n",
       "      <th>992</th>\n",
       "      <td>2002-09-19</td>\n",
       "      <td>-29.912330</td>\n",
       "      <td>3.955625</td>\n",
       "      <td>0.263544</td>\n",
       "      <td>11.775118</td>\n",
       "    </tr>\n",
       "    <tr>\n",
       "      <th>993</th>\n",
       "      <td>2002-09-20</td>\n",
       "      <td>-28.695415</td>\n",
       "      <td>4.894236</td>\n",
       "      <td>-0.420652</td>\n",
       "      <td>12.857844</td>\n",
       "    </tr>\n",
       "    <tr>\n",
       "      <th>994</th>\n",
       "      <td>2002-09-21</td>\n",
       "      <td>-27.096780</td>\n",
       "      <td>3.732435</td>\n",
       "      <td>-2.076272</td>\n",
       "      <td>12.128312</td>\n",
       "    </tr>\n",
       "    <tr>\n",
       "      <th>995</th>\n",
       "      <td>2002-09-22</td>\n",
       "      <td>-26.212700</td>\n",
       "      <td>3.925388</td>\n",
       "      <td>-4.039660</td>\n",
       "      <td>13.675382</td>\n",
       "    </tr>\n",
       "    <tr>\n",
       "      <th>996</th>\n",
       "      <td>2002-09-23</td>\n",
       "      <td>-24.601426</td>\n",
       "      <td>4.194219</td>\n",
       "      <td>-3.638233</td>\n",
       "      <td>13.899380</td>\n",
       "    </tr>\n",
       "    <tr>\n",
       "      <th>997</th>\n",
       "      <td>2002-09-24</td>\n",
       "      <td>-25.158035</td>\n",
       "      <td>5.080830</td>\n",
       "      <td>-4.854776</td>\n",
       "      <td>12.727457</td>\n",
       "    </tr>\n",
       "    <tr>\n",
       "      <th>998</th>\n",
       "      <td>2002-09-25</td>\n",
       "      <td>-26.683748</td>\n",
       "      <td>5.772647</td>\n",
       "      <td>-5.493758</td>\n",
       "      <td>11.893104</td>\n",
       "    </tr>\n",
       "    <tr>\n",
       "      <th>999</th>\n",
       "      <td>2002-09-26</td>\n",
       "      <td>-24.280445</td>\n",
       "      <td>5.422879</td>\n",
       "      <td>-4.382781</td>\n",
       "      <td>11.854267</td>\n",
       "    </tr>\n",
       "  </tbody>\n",
       "</table>\n",
       "<p>1000 rows × 5 columns</p>\n",
       "</div>"
      ],
      "text/plain": [
       "     Unnamed: 0          A         B         C          D\n",
       "0    2000-01-01   0.587075  1.346920  0.725701  -0.889980\n",
       "1    2000-01-02   0.025762  0.264161  0.203389  -0.904734\n",
       "2    2000-01-03  -1.011816 -1.755280  1.620847  -0.591833\n",
       "3    2000-01-04  -2.279414 -1.192146  0.935685   0.030528\n",
       "4    2000-01-05  -3.293899 -1.178664  0.370845  -1.315633\n",
       "5    2000-01-06  -2.667877 -1.517468 -0.327099  -0.459230\n",
       "6    2000-01-07  -2.657866 -0.855833 -0.262645  -0.624239\n",
       "7    2000-01-08  -2.991903  0.185000 -0.755474  -1.767696\n",
       "8    2000-01-09  -4.271579  1.832426  0.388105  -0.837633\n",
       "9    2000-01-10  -4.680879  2.012922 -1.309038  -1.406791\n",
       "10   2000-01-11  -3.220809  3.074326 -1.082793  -2.476081\n",
       "11   2000-01-12  -2.057530  2.869010 -1.175955  -2.672802\n",
       "12   2000-01-13  -2.971381  3.708925 -1.741834  -2.142366\n",
       "13   2000-01-14  -2.905740  3.073225 -2.392999  -1.062584\n",
       "14   2000-01-15  -2.839697  4.631077 -0.434300  -0.175833\n",
       "15   2000-01-16  -3.787281  4.056998  0.003750  -0.780598\n",
       "16   2000-01-17  -4.552473  4.260489 -0.696273  -0.859291\n",
       "17   2000-01-18  -3.423981  4.101471 -0.661731  -0.998168\n",
       "18   2000-01-19  -4.454692  4.549610 -0.710930  -2.162805\n",
       "19   2000-01-20  -5.360626  5.557496  0.081514  -0.710361\n",
       "20   2000-01-21  -4.881002  4.379477 -2.518766  -1.831202\n",
       "21   2000-01-22  -6.008761  4.504824 -4.361471  -1.673656\n",
       "22   2000-01-23  -4.060988  3.024626 -3.193927  -2.608832\n",
       "23   2000-01-24  -4.486278  2.795891 -2.299079  -1.263024\n",
       "24   2000-01-25  -5.837873  2.196716 -3.998890  -2.432622\n",
       "25   2000-01-26  -4.926502  0.797134 -4.760292  -1.574189\n",
       "26   2000-01-27  -7.017181  0.786709 -5.407436  -2.075564\n",
       "27   2000-01-28  -8.478877  1.214936 -4.686588  -2.465789\n",
       "28   2000-01-29  -7.406982  1.978515 -5.610218  -3.724130\n",
       "29   2000-01-30  -9.749800  2.127457 -3.862790  -2.314640\n",
       "..          ...        ...       ...       ...        ...\n",
       "970  2002-08-28 -30.914663  2.510741 -0.705434   4.299214\n",
       "971  2002-08-29 -30.377572  1.673857 -1.394623   5.346136\n",
       "972  2002-08-30 -32.266378  1.589142 -1.357684   4.721623\n",
       "973  2002-08-31 -31.220246  1.771841 -1.049918   5.641977\n",
       "974  2002-09-01 -30.513742  3.125983 -2.988989   6.592502\n",
       "975  2002-09-02 -31.350869  2.765696 -2.462200   6.746114\n",
       "976  2002-09-03 -31.417955  1.572676 -3.504812   7.300951\n",
       "977  2002-09-04 -31.907264  2.202415 -4.148042   8.100003\n",
       "978  2002-09-05 -32.491009  4.147027 -0.991046   7.924532\n",
       "979  2002-09-06 -32.074043  5.266095  0.682224   8.336723\n",
       "980  2002-09-07 -31.729164  4.018637  1.620177   9.992412\n",
       "981  2002-09-08 -31.399406  3.853473 -0.639558   9.921083\n",
       "982  2002-09-09 -31.735699  3.133299  1.173382  11.772314\n",
       "983  2002-09-10 -31.766785  4.701394  2.375483  11.388903\n",
       "984  2002-09-11 -32.837740  4.268852  0.819700  11.461822\n",
       "985  2002-09-12 -32.250601  3.376540 -0.826952  10.103803\n",
       "986  2002-09-13 -33.026937  3.847723 -2.004690   8.614268\n",
       "987  2002-09-14 -31.124012  4.093620 -0.830173   9.052371\n",
       "988  2002-09-15 -31.362849  5.393078 -1.668539  10.370508\n",
       "989  2002-09-16 -31.381904  5.833111 -0.777204  10.895998\n",
       "990  2002-09-17 -31.871240  4.862709 -1.525356  12.177516\n",
       "991  2002-09-18 -30.436182  4.553784 -0.645729  11.602164\n",
       "992  2002-09-19 -29.912330  3.955625  0.263544  11.775118\n",
       "993  2002-09-20 -28.695415  4.894236 -0.420652  12.857844\n",
       "994  2002-09-21 -27.096780  3.732435 -2.076272  12.128312\n",
       "995  2002-09-22 -26.212700  3.925388 -4.039660  13.675382\n",
       "996  2002-09-23 -24.601426  4.194219 -3.638233  13.899380\n",
       "997  2002-09-24 -25.158035  5.080830 -4.854776  12.727457\n",
       "998  2002-09-25 -26.683748  5.772647 -5.493758  11.893104\n",
       "999  2002-09-26 -24.280445  5.422879 -4.382781  11.854267\n",
       "\n",
       "[1000 rows x 5 columns]"
      ]
     },
     "execution_count": 62,
     "metadata": {},
     "output_type": "execute_result"
    }
   ],
   "source": [
    "df.to_csv('foo.csv')  #DataFrameをcsvに書き込み\n",
    "pd.read_csv('foo.csv')  #CSVファイルをDataFrameで読み込む"
   ]
  },
  {
   "cell_type": "markdown",
   "metadata": {},
   "source": [
    "#### 13-2. HDF5\n",
    "* HDF5…Hierarchical Data Formatの略…階層化されたデータ群を取り扱うフォーマット"
   ]
  },
  {
   "cell_type": "raw",
   "metadata": {},
   "source": [
    "#扱い方がよくわからないため、除外\n",
    "df.to_hdf('foo.h5','df')  #HDF5ファイルへの書き込み\n",
    "pd.read_hdf('foo.h5','df')  #HDF%ファイルの読み込み"
   ]
  },
  {
   "cell_type": "markdown",
   "metadata": {},
   "source": [
    "#### 13-3. Excel"
   ]
  },
  {
   "cell_type": "raw",
   "metadata": {},
   "source": [
    "df.to_excel('foo.xlsx', sheet_name='Sheet1')  #Excelファイルへの書き込み\n",
    "pd.read_excel('foo.xlsx', 'Sheet1', index_col=None, na_values=['NA'])  #Excelファイルの読み込み"
   ]
  },
  {
   "cell_type": "markdown",
   "metadata": {},
   "source": [
    "### pandasのメソッド等\n",
    "* `Series()`…一次元配列のSeriesオブジェクトを生成。\n",
    "  * `Series.shift(n)`…n個データを移動させるメソッド\n",
    "  * `Series.str.lower()` …文字列を小文字に変換するメソッド\n",
    "  * `Series.resample()`…引数に合致する時間インデックスでデータを再取得 -> Seriesオブジェクト\n",
    "  * `Series.tz_localize(timezone)`…引数のタイムゾーン情報を持つ時間オブジェクトに変更\n",
    "  * `Seriestime.tz_convert(timezone)`…引数のタイムゾーンの時間に変更\n",
    "  * `Seriestime.to_period()`…Datatimeインデックスをperiodタイムインデックスに変更\n",
    "  * `Seriestime.to_timestamp()`…月初日基準のdatetimeインデックスに変更\n",
    "  * `Series.index`…シリーズオブジェクトのインデックス\n",
    "  * `Series.cat.categories`…新しいカテゴリーの割り当て\n",
    "  * `Series.cat.set_categories()`…新しいカテゴリーの割り当て\n",
    "  * `Series.sort_values(category)`…指定したカテゴリーでのソート\n",
    "  * `Series.plot()`…matplotlibを用いてグラフにプロット\n",
    "* `date_range()`…固定されたデートタイムインデックスを返すメソッド。return -> DatetimeIndex型\n",
    "  * 引数:start=開始日(str型 or datetime型), end=終了日(str型 or datetime型), periods=期間(int型), frequency=時間の頻度\n",
    "* `DataFrame()`…二次元配列のDataFrameオブジェクトを生成。\n",
    "  * 引数:data=データ(numpyオブジェクト,dict型,DataFrame型), index=インデックス(index型)\n",
    "  * `DataFrame.dtypes`…データタイプを返す属性\n",
    "  * `DataFrame.index`…インデックスを返す属性\n",
    "  * `DataFrame.values`…DataFrameのバリューをカラム単位で返す属性\n",
    "  * `DataFrame.columns`…カラムを返す属性\n",
    "  * `DataFrame.T`…rowとcolumnsを転置して返す属性。transpose()でも代替可\n",
    "  * `DataFrame.loc`…ラベルに沿ったrowやcolumnにアクセスする属性\n",
    "    * 設定の仕方: `DataFrame.loc[row:column]`rowを指定しない場合はコロン(:)を入力\n",
    "  * `DataFrame.iloc`…int型で取得するあ隊を指定できる属性。設定形式はlocと同じ\n",
    "  * `DataFrame.at`…単一の値を取得できる属性。設定形式はlocと同じ\n",
    "  * `DataFrame.iat`…`DataFrame.at`のint版\n",
    "  * `DataFrame.head(n)`…最初のn列目までの情報を返す(デフォルトは5)。\n",
    "  * `DataFrame.tail(n)`…最後からのn列目までの情報を返す(デフォルトは5)。\n",
    "  * `DataFrame.describe()`…データの統計サマリーを返す\n",
    "  * `DataFrame.sort_index()`…インデックス値でソート\n",
    "    * 引数: axis=軸(0がrow、1がカラム), ascending=昇順か降順か\n",
    "  * `DataFrame.sort_values()`…バリュー値でソート\n",
    "    * 引数: by=基準点\n",
    "  * `DataFrame.copy()`…DataFrameオブジェクトのコピーを作成\n",
    "  * `DataFrame.reindex()`…インデックスの再割り当て\n",
    "  * `DataFrame.dropna()`…欠損値を除外するメソッド\n",
    "    * 引数:how=\"any\"or\"all\"(any->1つでも欠損値があればそのrowかcolumnを除外。allは全て欠損値の場合)\n",
    "  * `DataFrame.fillna()`…欠損値を補充するメソッド\n",
    "  * `DataFrame.isna()`…そのマスが欠損地下道かをbool式(True or False)で表すメソッド\n",
    "    * 引数: value=補充する値\n",
    "  * `DataFrame.mean()`…平均を返すメソッド\n",
    "    + 引数: axis=軸(デフォルトでインデックス(0),カラムも可(1))\n",
    "  * `DataFrame.sub(s)`…データフレームと他の要素xとの減算(df-x)\n",
    "    * 通常は肩を揃える必要があるが、pandasが自動で行ってくれる\n",
    "  * `DataFrame.apply()`…DataFrameに関数を適用するメソッド。軸に添いSeriesと皆して適用する\n",
    "  * `DataFrame.appen()`…DataFrameにrowを付加するメソッド。\n",
    "    * 引数: ignore_index=付加するrowのラベルを使用するかどうか(Trueなら使用しない)\n",
    "  * `DataFrame.groupby()` …グループごとに沿った対応をするメソッド -> Gruoupby型\n",
    "    * `GroupBy.sum()`…グループに沿って合計を出すメソッド\n",
    "    * `GroupBy.size()`…特定グループのサイズを集計\n",
    "  * `DataFrame.stacked()`…カラムをインデックス相当に置き換え、マルチインデックスのようにするメソッド\n",
    "  * `stucked DataFrame.unstacked()`…スタックされたDataFrameをカラムのある状態にするメソッド\n",
    "  * `DataFrame.astype()`…pandasオブジェクトを特定のデータ型に変換\n",
    "  * `DataFrame.to_csv()`…DataFrameをCSVに書き込み\n",
    "  * `DataFrame.to_hdf()`…HDF5ファイルへの書き込み\n",
    "  * `DataFrame.to_excel()`…Excelファイルへの書き込み\n",
    "* `Panel()`…三次元配列のPanelを取り扱う。\n",
    "* `Timestamp`()…pandas用のタイムスタンプを生成。pythonのdatetime型を変換することもできる。 -> Timestamp型\n",
    "* `Categorical()`…カテゴリー変数を表すメソッド。 -> Categorical型\n",
    "* `concat()`…データを結合させるメソッド\n",
    "* `merge()`…DataFrameオブジェクトを結合させる\n",
    "  * 引数: left,right=DataFrameオブジェクト、on=結合の基準をインデックスかカラムかを指定\n",
    "* `MultiIndex.from_tuples()`…タプルのリストをマルチインデックスに変換する\n",
    "* `pivot_table()`…スプレッドシートスタイルのピボットテーブル(データの要約)を返す\n",
    "* `period_range()`…期間表示のタイムインデックスを返すメソッド -> PeriodIndex型\n",
    "  * `PeriodIndex.asfreq()`…PeriodIndexオブジェクトを特定のタイムインデックスに変換\n",
    "* `read_csv()`…csvをDataFrameとして読み込み\n",
    "* `read_hdf5()`…HDF5ファイルの読み込み\n",
    "* `read_excel()`…Excelファイルの読み込み"
   ]
  },
  {
   "cell_type": "markdown",
   "metadata": {},
   "source": [
    "### numpyのメソッド等\n",
    "* `randam.randn`()…標準正規分布に沿って乱数を生成する。 -> ndarray型\n",
    "  * 引数:データ配列の次元に合わせて指定する(row, column...)\n",
    "* `randam.randint()`…一分布に沿った整数をランダムを返す\n",
    "* `array()`…一次元配列を作るメソッド。 -> ndarray型\n",
    "* `cumsum()`…累積和を表すメソッド"
   ]
  },
  {
   "cell_type": "markdown",
   "metadata": {},
   "source": [
    "### matplotlibのメソッド等\n",
    "* Artistクラス…図のキャンバスをレンダリングするための抽象的な基底クラス\n",
    "* Figureインスタンス…コールバックをサポートする\n",
    "* `plt.figure()`…figureモジュール。プロットするすべての要素を含む、Artistクラスやfigureインスタンスを提供する\n",
    "* `plt.legend()`…Legendモジュール。判例を表示させるためのもの。\n",
    "  * 引数: loc=凡例の位置の指定"
   ]
  },
  {
   "cell_type": "code",
   "execution_count": null,
   "metadata": {},
   "outputs": [],
   "source": []
  }
 ],
 "metadata": {
  "kernelspec": {
   "display_name": "Python 3",
   "language": "python",
   "name": "python3"
  },
  "language_info": {
   "codemirror_mode": {
    "name": "ipython",
    "version": 3
   },
   "file_extension": ".py",
   "mimetype": "text/x-python",
   "name": "python",
   "nbconvert_exporter": "python",
   "pygments_lexer": "ipython3",
   "version": "3.7.0"
  }
 },
 "nbformat": 4,
 "nbformat_minor": 2
}
